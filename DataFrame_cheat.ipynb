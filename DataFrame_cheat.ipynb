{
 "cells": [
  {
   "cell_type": "code",
   "execution_count": 4,
   "id": "c77ff7ba-e2b7-41fd-a0b8-ab75d765459a",
   "metadata": {},
   "outputs": [
    {
     "name": "stdout",
     "output_type": "stream",
     "text": [
      "   a  b   c\n",
      "1  4  7  10\n",
      "2  5  8  11\n",
      "3  6  9  12\n"
     ]
    }
   ],
   "source": [
    "# We specify values for each column\n",
    "import pandas as pd\n",
    "df=pd.DataFrame({\"a\":[4,5,6],\"b\":[7,8,9],\"c\":[10,11,12]},index=[1,2,3])\n",
    "print(df)"
   ]
  },
  {
   "cell_type": "code",
   "execution_count": 3,
   "id": "a3d053d3-3c88-416b-9b57-d00f1ceab2dd",
   "metadata": {},
   "outputs": [
    {
     "name": "stdout",
     "output_type": "stream",
     "text": [
      "    a   b   c\n",
      "1   4   5   6\n",
      "2   7   8   9\n",
      "3  10  11  12\n"
     ]
    }
   ],
   "source": [
    "import pandas as pd\n",
    "df=pd.DataFrame([[4,5,6],[7,8,9],[10,11,12]],index=[1,2,3],columns=['a','b','c'])\n",
    "print(df)"
   ]
  },
  {
   "cell_type": "code",
   "execution_count": 8,
   "id": "f28d148e-3dc6-4a71-82b6-f48211a1c5fc",
   "metadata": {},
   "outputs": [
    {
     "name": "stdout",
     "output_type": "stream",
     "text": [
      "     a  b   c\n",
      "N v          \n",
      "d 1  4  7  10\n",
      "  2  5  8  11\n",
      "e 3  6  9  12\n"
     ]
    }
   ],
   "source": [
    "# Creating a data frame with a multiindex\n",
    "import pandas as pd\n",
    "df=pd.DataFrame({\"a\":[4,5,6],\"b\":[7,8,9],\"c\":[10,11,12]},index=pd.MultiIndex.from_tuples([('d',1),('d',2),('e',3)],names=['N','v']))\n",
    "print(df)"
   ]
  },
  {
   "cell_type": "code",
   "execution_count": null,
   "id": "a06ac49c-0d4a-499f-9e57-accc3e7ec646",
   "metadata": {},
   "outputs": [],
   "source": []
  }
 ],
 "metadata": {
  "kernelspec": {
   "display_name": "Python 3 (ipykernel)",
   "language": "python",
   "name": "python3"
  },
  "language_info": {
   "codemirror_mode": {
    "name": "ipython",
    "version": 3
   },
   "file_extension": ".py",
   "mimetype": "text/x-python",
   "name": "python",
   "nbconvert_exporter": "python",
   "pygments_lexer": "ipython3",
   "version": "3.13.5"
  }
 },
 "nbformat": 4,
 "nbformat_minor": 5
}
