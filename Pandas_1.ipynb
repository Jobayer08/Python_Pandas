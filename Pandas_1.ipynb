{
 "cells": [
  {
   "cell_type": "code",
   "execution_count": 580,
   "id": "e7ea7a89-17b1-4514-9d2f-89fa744f3de1",
   "metadata": {},
   "outputs": [
    {
     "name": "stdout",
     "output_type": "stream",
     "text": [
      "Requirement already satisfied: pandas in e:\\anaconda\\lib\\site-packages (2.2.2)\n",
      "Requirement already satisfied: numpy>=1.26.0 in e:\\anaconda\\lib\\site-packages (from pandas) (1.26.4)\n",
      "Requirement already satisfied: python-dateutil>=2.8.2 in e:\\anaconda\\lib\\site-packages (from pandas) (2.9.0.post0)\n",
      "Requirement already satisfied: pytz>=2020.1 in e:\\anaconda\\lib\\site-packages (from pandas) (2024.1)\n",
      "Requirement already satisfied: tzdata>=2022.7 in e:\\anaconda\\lib\\site-packages (from pandas) (2023.3)\n",
      "Requirement already satisfied: six>=1.5 in e:\\anaconda\\lib\\site-packages (from python-dateutil>=2.8.2->pandas) (1.16.0)\n"
     ]
    }
   ],
   "source": [
    "!pip install pandas"
   ]
  },
  {
   "cell_type": "code",
   "execution_count": 581,
   "id": "0b8fbb1f-301e-4cd2-a55e-b8cbe81ca694",
   "metadata": {},
   "outputs": [],
   "source": [
    "import pandas as pd"
   ]
  },
  {
   "cell_type": "code",
   "execution_count": 582,
   "id": "f36f3d79-f6c9-41de-b79e-38c83f4b786b",
   "metadata": {},
   "outputs": [],
   "source": [
    "data=[1,2,3,4,5,6]"
   ]
  },
  {
   "cell_type": "code",
   "execution_count": 583,
   "id": "07f0ab72-cbda-42f3-8054-406b7159c06b",
   "metadata": {},
   "outputs": [
    {
     "data": {
      "text/plain": [
       "0    1\n",
       "1    2\n",
       "2    3\n",
       "3    4\n",
       "4    5\n",
       "5    6\n",
       "dtype: int64"
      ]
     },
     "execution_count": 583,
     "metadata": {},
     "output_type": "execute_result"
    }
   ],
   "source": [
    "s=pd.Series(data)\n",
    "s"
   ]
  },
  {
   "cell_type": "code",
   "execution_count": 584,
   "id": "4bd0d7cb-9832-4a44-b789-af9a41fddcaf",
   "metadata": {},
   "outputs": [
    {
     "data": {
      "text/html": [
       "<div>\n",
       "<style scoped>\n",
       "    .dataframe tbody tr th:only-of-type {\n",
       "        vertical-align: middle;\n",
       "    }\n",
       "\n",
       "    .dataframe tbody tr th {\n",
       "        vertical-align: top;\n",
       "    }\n",
       "\n",
       "    .dataframe thead th {\n",
       "        text-align: right;\n",
       "    }\n",
       "</style>\n",
       "<table border=\"1\" class=\"dataframe\">\n",
       "  <thead>\n",
       "    <tr style=\"text-align: right;\">\n",
       "      <th></th>\n",
       "      <th>num</th>\n",
       "    </tr>\n",
       "  </thead>\n",
       "  <tbody>\n",
       "    <tr>\n",
       "      <th>0</th>\n",
       "      <td>1</td>\n",
       "    </tr>\n",
       "    <tr>\n",
       "      <th>1</th>\n",
       "      <td>2</td>\n",
       "    </tr>\n",
       "    <tr>\n",
       "      <th>2</th>\n",
       "      <td>3</td>\n",
       "    </tr>\n",
       "    <tr>\n",
       "      <th>3</th>\n",
       "      <td>4</td>\n",
       "    </tr>\n",
       "    <tr>\n",
       "      <th>4</th>\n",
       "      <td>5</td>\n",
       "    </tr>\n",
       "    <tr>\n",
       "      <th>5</th>\n",
       "      <td>6</td>\n",
       "    </tr>\n",
       "  </tbody>\n",
       "</table>\n",
       "</div>"
      ],
      "text/plain": [
       "   num\n",
       "0    1\n",
       "1    2\n",
       "2    3\n",
       "3    4\n",
       "4    5\n",
       "5    6"
      ]
     },
     "execution_count": 584,
     "metadata": {},
     "output_type": "execute_result"
    }
   ],
   "source": [
    "df=pd.DataFrame(s,columns=['num'])\n",
    "df"
   ]
  },
  {
   "cell_type": "code",
   "execution_count": 585,
   "id": "161f6928-2984-4885-ba87-40671f2a7e76",
   "metadata": {},
   "outputs": [],
   "source": [
    "s2=df['num']"
   ]
  },
  {
   "cell_type": "code",
   "execution_count": 586,
   "id": "1804b7c7-e349-4fbc-8b3f-3e492c5f4e34",
   "metadata": {},
   "outputs": [
    {
     "data": {
      "text/plain": [
       "0    1\n",
       "1    2\n",
       "2    3\n",
       "3    4\n",
       "4    5\n",
       "5    6\n",
       "Name: num, dtype: int64"
      ]
     },
     "execution_count": 586,
     "metadata": {},
     "output_type": "execute_result"
    }
   ],
   "source": [
    "s2"
   ]
  },
  {
   "cell_type": "code",
   "execution_count": 587,
   "id": "0059e036-e7ef-4889-8aa4-f340648e1ffd",
   "metadata": {},
   "outputs": [],
   "source": [
    "data1=[[1,2],[3,4],[5,6]]\n"
   ]
  },
  {
   "cell_type": "code",
   "execution_count": 588,
   "id": "844b5a0e-91f5-4cf0-8a62-98cb522ff101",
   "metadata": {},
   "outputs": [],
   "source": [
    "df1=pd.DataFrame(data1,columns=['num1','num2'])"
   ]
  },
  {
   "cell_type": "code",
   "execution_count": 589,
   "id": "e1e06a87-7403-4859-b220-4450a49afb7f",
   "metadata": {},
   "outputs": [
    {
     "name": "stdout",
     "output_type": "stream",
     "text": [
      "   num1  num2\n",
      "0     1     2\n",
      "1     3     4\n",
      "2     5     6\n"
     ]
    }
   ],
   "source": [
    "print(df1)"
   ]
  },
  {
   "cell_type": "code",
   "execution_count": 590,
   "id": "399bb1ab-b5fe-4369-bb2f-e7cd19e6bbb9",
   "metadata": {},
   "outputs": [
    {
     "name": "stdout",
     "output_type": "stream",
     "text": [
      "   num1  num2\n",
      "0     1     2\n",
      "1     3     4\n",
      "2     5     6\n"
     ]
    }
   ],
   "source": [
    "s3=df1[['num1','num2']]\n",
    "print(s3)"
   ]
  },
  {
   "cell_type": "markdown",
   "id": "571f6f97-3ca4-4bde-8146-f70785100b2e",
   "metadata": {},
   "source": [
    "## Dictionary to series and data frame"
   ]
  },
  {
   "cell_type": "code",
   "execution_count": 592,
   "id": "c3745b3d-c274-493b-b2a8-3db352ee8f42",
   "metadata": {},
   "outputs": [],
   "source": [
    "import pandas as pd"
   ]
  },
  {
   "cell_type": "code",
   "execution_count": 593,
   "id": "ea201aed-7d6f-4323-a074-53e4312345df",
   "metadata": {},
   "outputs": [],
   "source": [
    "data={\n",
    "    'name':['ras','zannat','rishan'],\n",
    "    'age':[25,24,23],\n",
    "    'city':['erl','nur','mun']\n",
    "}"
   ]
  },
  {
   "cell_type": "code",
   "execution_count": 594,
   "id": "b1f52220-d197-4072-a8e3-7018a4e67b5e",
   "metadata": {},
   "outputs": [
    {
     "data": {
      "text/plain": [
       "0       ras\n",
       "1    zannat\n",
       "2    rishan\n",
       "Name: Name, dtype: object"
      ]
     },
     "execution_count": 594,
     "metadata": {},
     "output_type": "execute_result"
    }
   ],
   "source": [
    "name_series=pd.Series(data['name'],name='Name')\n",
    "name_series"
   ]
  },
  {
   "cell_type": "code",
   "execution_count": 595,
   "id": "201208a3-9660-4b8a-800b-fa587ca12f66",
   "metadata": {},
   "outputs": [],
   "source": [
    "df=pd.DataFrame(data)"
   ]
  },
  {
   "cell_type": "code",
   "execution_count": 596,
   "id": "2c200d2d-6ed2-46e4-b19d-dec889c366c5",
   "metadata": {},
   "outputs": [
    {
     "data": {
      "text/html": [
       "<div>\n",
       "<style scoped>\n",
       "    .dataframe tbody tr th:only-of-type {\n",
       "        vertical-align: middle;\n",
       "    }\n",
       "\n",
       "    .dataframe tbody tr th {\n",
       "        vertical-align: top;\n",
       "    }\n",
       "\n",
       "    .dataframe thead th {\n",
       "        text-align: right;\n",
       "    }\n",
       "</style>\n",
       "<table border=\"1\" class=\"dataframe\">\n",
       "  <thead>\n",
       "    <tr style=\"text-align: right;\">\n",
       "      <th></th>\n",
       "      <th>name</th>\n",
       "      <th>age</th>\n",
       "      <th>city</th>\n",
       "    </tr>\n",
       "  </thead>\n",
       "  <tbody>\n",
       "    <tr>\n",
       "      <th>0</th>\n",
       "      <td>ras</td>\n",
       "      <td>25</td>\n",
       "      <td>erl</td>\n",
       "    </tr>\n",
       "    <tr>\n",
       "      <th>1</th>\n",
       "      <td>zannat</td>\n",
       "      <td>24</td>\n",
       "      <td>nur</td>\n",
       "    </tr>\n",
       "    <tr>\n",
       "      <th>2</th>\n",
       "      <td>rishan</td>\n",
       "      <td>23</td>\n",
       "      <td>mun</td>\n",
       "    </tr>\n",
       "  </tbody>\n",
       "</table>\n",
       "</div>"
      ],
      "text/plain": [
       "     name  age city\n",
       "0     ras   25  erl\n",
       "1  zannat   24  nur\n",
       "2  rishan   23  mun"
      ]
     },
     "execution_count": 596,
     "metadata": {},
     "output_type": "execute_result"
    }
   ],
   "source": [
    "df"
   ]
  },
  {
   "cell_type": "code",
   "execution_count": 597,
   "id": "b841661f-1a20-4073-859f-70281bd8edb3",
   "metadata": {},
   "outputs": [],
   "source": [
    "age_series=df['age']"
   ]
  },
  {
   "cell_type": "code",
   "execution_count": 598,
   "id": "5fec7ce5-1162-49a2-808c-b37d40c637ec",
   "metadata": {},
   "outputs": [
    {
     "data": {
      "text/plain": [
       "0    25\n",
       "1    24\n",
       "2    23\n",
       "Name: age, dtype: int64"
      ]
     },
     "execution_count": 598,
     "metadata": {},
     "output_type": "execute_result"
    }
   ],
   "source": [
    "age_series"
   ]
  },
  {
   "cell_type": "markdown",
   "id": "cbce01b1-bde7-41d5-9d45-c1eb799f5e1b",
   "metadata": {},
   "source": [
    "## set to series and data frame"
   ]
  },
  {
   "cell_type": "code",
   "execution_count": 600,
   "id": "e043405f-c8c7-4932-a8a6-ca2d2b0ff286",
   "metadata": {},
   "outputs": [],
   "source": [
    "s1={1,2,3,4,5,8}"
   ]
  },
  {
   "cell_type": "code",
   "execution_count": 601,
   "id": "4fb9ab95-f7ec-4184-a4d6-cb4c9be53bfb",
   "metadata": {},
   "outputs": [],
   "source": [
    "s=pd.Series(list(s1))"
   ]
  },
  {
   "cell_type": "code",
   "execution_count": 602,
   "id": "cb6c6dce-b2ec-473e-b1e0-6ab624a7a7c6",
   "metadata": {},
   "outputs": [
    {
     "data": {
      "text/plain": [
       "0    1\n",
       "1    2\n",
       "2    3\n",
       "3    4\n",
       "4    5\n",
       "5    8\n",
       "dtype: int64"
      ]
     },
     "execution_count": 602,
     "metadata": {},
     "output_type": "execute_result"
    }
   ],
   "source": [
    "s"
   ]
  },
  {
   "cell_type": "code",
   "execution_count": 603,
   "id": "9e390b70-0a36-4556-9a57-9a19fcb2bc87",
   "metadata": {},
   "outputs": [],
   "source": [
    "df=pd.DataFrame(s1,columns=['set_value'])"
   ]
  },
  {
   "cell_type": "code",
   "execution_count": 604,
   "id": "4034ebd4-ce7a-4a19-9db8-2c4d7b497616",
   "metadata": {},
   "outputs": [
    {
     "data": {
      "text/html": [
       "<div>\n",
       "<style scoped>\n",
       "    .dataframe tbody tr th:only-of-type {\n",
       "        vertical-align: middle;\n",
       "    }\n",
       "\n",
       "    .dataframe tbody tr th {\n",
       "        vertical-align: top;\n",
       "    }\n",
       "\n",
       "    .dataframe thead th {\n",
       "        text-align: right;\n",
       "    }\n",
       "</style>\n",
       "<table border=\"1\" class=\"dataframe\">\n",
       "  <thead>\n",
       "    <tr style=\"text-align: right;\">\n",
       "      <th></th>\n",
       "      <th>set_value</th>\n",
       "    </tr>\n",
       "  </thead>\n",
       "  <tbody>\n",
       "    <tr>\n",
       "      <th>0</th>\n",
       "      <td>1</td>\n",
       "    </tr>\n",
       "    <tr>\n",
       "      <th>1</th>\n",
       "      <td>2</td>\n",
       "    </tr>\n",
       "    <tr>\n",
       "      <th>2</th>\n",
       "      <td>3</td>\n",
       "    </tr>\n",
       "    <tr>\n",
       "      <th>3</th>\n",
       "      <td>4</td>\n",
       "    </tr>\n",
       "    <tr>\n",
       "      <th>4</th>\n",
       "      <td>5</td>\n",
       "    </tr>\n",
       "    <tr>\n",
       "      <th>5</th>\n",
       "      <td>8</td>\n",
       "    </tr>\n",
       "  </tbody>\n",
       "</table>\n",
       "</div>"
      ],
      "text/plain": [
       "   set_value\n",
       "0          1\n",
       "1          2\n",
       "2          3\n",
       "3          4\n",
       "4          5\n",
       "5          8"
      ]
     },
     "execution_count": 604,
     "metadata": {},
     "output_type": "execute_result"
    }
   ],
   "source": [
    "df"
   ]
  },
  {
   "cell_type": "markdown",
   "id": "9a294004-d9e4-49dd-86c5-b309cd85d0c3",
   "metadata": {},
   "source": [
    "## tuple to series and data frame"
   ]
  },
  {
   "cell_type": "code",
   "execution_count": 606,
   "id": "bdecb870-689e-44ba-8099-6f68872ef4c9",
   "metadata": {},
   "outputs": [],
   "source": [
    "t=(1,2,3,4,5)"
   ]
  },
  {
   "cell_type": "code",
   "execution_count": 607,
   "id": "98a0b3b1-4186-42e3-b506-04015f78a7b7",
   "metadata": {},
   "outputs": [],
   "source": [
    "s=pd.Series(t)"
   ]
  },
  {
   "cell_type": "code",
   "execution_count": 608,
   "id": "3be5a195-feae-4485-bfdb-577e690122c4",
   "metadata": {},
   "outputs": [
    {
     "data": {
      "text/plain": [
       "0    1\n",
       "1    2\n",
       "2    3\n",
       "3    4\n",
       "4    5\n",
       "dtype: int64"
      ]
     },
     "execution_count": 608,
     "metadata": {},
     "output_type": "execute_result"
    }
   ],
   "source": [
    "s"
   ]
  },
  {
   "cell_type": "code",
   "execution_count": 609,
   "id": "49868b4d-96bc-493c-b942-b65aa5235011",
   "metadata": {},
   "outputs": [],
   "source": [
    "df=pd.DataFrame(s)"
   ]
  },
  {
   "cell_type": "code",
   "execution_count": 610,
   "id": "64f9ff54-f9b9-4329-8554-b0ebbed87b1e",
   "metadata": {},
   "outputs": [
    {
     "data": {
      "text/html": [
       "<div>\n",
       "<style scoped>\n",
       "    .dataframe tbody tr th:only-of-type {\n",
       "        vertical-align: middle;\n",
       "    }\n",
       "\n",
       "    .dataframe tbody tr th {\n",
       "        vertical-align: top;\n",
       "    }\n",
       "\n",
       "    .dataframe thead th {\n",
       "        text-align: right;\n",
       "    }\n",
       "</style>\n",
       "<table border=\"1\" class=\"dataframe\">\n",
       "  <thead>\n",
       "    <tr style=\"text-align: right;\">\n",
       "      <th></th>\n",
       "      <th>0</th>\n",
       "    </tr>\n",
       "  </thead>\n",
       "  <tbody>\n",
       "    <tr>\n",
       "      <th>0</th>\n",
       "      <td>1</td>\n",
       "    </tr>\n",
       "    <tr>\n",
       "      <th>1</th>\n",
       "      <td>2</td>\n",
       "    </tr>\n",
       "    <tr>\n",
       "      <th>2</th>\n",
       "      <td>3</td>\n",
       "    </tr>\n",
       "    <tr>\n",
       "      <th>3</th>\n",
       "      <td>4</td>\n",
       "    </tr>\n",
       "    <tr>\n",
       "      <th>4</th>\n",
       "      <td>5</td>\n",
       "    </tr>\n",
       "  </tbody>\n",
       "</table>\n",
       "</div>"
      ],
      "text/plain": [
       "   0\n",
       "0  1\n",
       "1  2\n",
       "2  3\n",
       "3  4\n",
       "4  5"
      ]
     },
     "execution_count": 610,
     "metadata": {},
     "output_type": "execute_result"
    }
   ],
   "source": [
    "df"
   ]
  },
  {
   "cell_type": "markdown",
   "id": "2372b102-5d1a-4c59-b911-d712ad75c619",
   "metadata": {},
   "source": [
    "## numeric datatype in pandas"
   ]
  },
  {
   "cell_type": "code",
   "execution_count": 612,
   "id": "adffd01a-c832-433b-8fb2-fdfc63c8ef43",
   "metadata": {},
   "outputs": [],
   "source": [
    "import pandas as pd"
   ]
  },
  {
   "cell_type": "code",
   "execution_count": 613,
   "id": "a780b8c6-723a-4006-9092-b9427ff985b2",
   "metadata": {},
   "outputs": [
    {
     "data": {
      "text/html": [
       "<div>\n",
       "<style scoped>\n",
       "    .dataframe tbody tr th:only-of-type {\n",
       "        vertical-align: middle;\n",
       "    }\n",
       "\n",
       "    .dataframe tbody tr th {\n",
       "        vertical-align: top;\n",
       "    }\n",
       "\n",
       "    .dataframe thead th {\n",
       "        text-align: right;\n",
       "    }\n",
       "</style>\n",
       "<table border=\"1\" class=\"dataframe\">\n",
       "  <thead>\n",
       "    <tr style=\"text-align: right;\">\n",
       "      <th></th>\n",
       "      <th>age</th>\n",
       "      <th>salary</th>\n",
       "    </tr>\n",
       "  </thead>\n",
       "  <tbody>\n",
       "    <tr>\n",
       "      <th>0</th>\n",
       "      <td>25</td>\n",
       "      <td>50000</td>\n",
       "    </tr>\n",
       "    <tr>\n",
       "      <th>1</th>\n",
       "      <td>40</td>\n",
       "      <td>650000</td>\n",
       "    </tr>\n",
       "    <tr>\n",
       "      <th>2</th>\n",
       "      <td>65</td>\n",
       "      <td>566777</td>\n",
       "    </tr>\n",
       "  </tbody>\n",
       "</table>\n",
       "</div>"
      ],
      "text/plain": [
       "   age  salary\n",
       "0   25   50000\n",
       "1   40  650000\n",
       "2   65  566777"
      ]
     },
     "execution_count": 613,
     "metadata": {},
     "output_type": "execute_result"
    }
   ],
   "source": [
    "data={'age':[25,40,65],\n",
    "      'salary':[50000,650000,566777]\n",
    "     }\n",
    "df=pd.DataFrame(data)\n",
    "df"
   ]
  },
  {
   "cell_type": "code",
   "execution_count": 614,
   "id": "96f0a541-cb8c-4d3b-b2c2-5a203197cee6",
   "metadata": {},
   "outputs": [
    {
     "name": "stdout",
     "output_type": "stream",
     "text": [
      "<class 'pandas.core.frame.DataFrame'>\n",
      "RangeIndex: 3 entries, 0 to 2\n",
      "Data columns (total 2 columns):\n",
      " #   Column  Non-Null Count  Dtype\n",
      "---  ------  --------------  -----\n",
      " 0   age     3 non-null      int64\n",
      " 1   salary  3 non-null      int64\n",
      "dtypes: int64(2)\n",
      "memory usage: 180.0 bytes\n"
     ]
    }
   ],
   "source": [
    "df.info()"
   ]
  },
  {
   "cell_type": "code",
   "execution_count": 615,
   "id": "93ba8c66-c98a-406f-bade-3fd705f409ff",
   "metadata": {},
   "outputs": [
    {
     "data": {
      "text/plain": [
       "age       int64\n",
       "salary    int64\n",
       "dtype: object"
      ]
     },
     "execution_count": 615,
     "metadata": {},
     "output_type": "execute_result"
    }
   ],
   "source": [
    "df.dtypes"
   ]
  },
  {
   "cell_type": "code",
   "execution_count": 616,
   "id": "07a7fc24-5c2e-4465-a44f-b27e2a750e02",
   "metadata": {},
   "outputs": [
    {
     "data": {
      "text/html": [
       "<div>\n",
       "<style scoped>\n",
       "    .dataframe tbody tr th:only-of-type {\n",
       "        vertical-align: middle;\n",
       "    }\n",
       "\n",
       "    .dataframe tbody tr th {\n",
       "        vertical-align: top;\n",
       "    }\n",
       "\n",
       "    .dataframe thead th {\n",
       "        text-align: right;\n",
       "    }\n",
       "</style>\n",
       "<table border=\"1\" class=\"dataframe\">\n",
       "  <thead>\n",
       "    <tr style=\"text-align: right;\">\n",
       "      <th></th>\n",
       "      <th>age</th>\n",
       "      <th>salary</th>\n",
       "    </tr>\n",
       "  </thead>\n",
       "  <tbody>\n",
       "    <tr>\n",
       "      <th>0</th>\n",
       "      <td>25</td>\n",
       "      <td>50000</td>\n",
       "    </tr>\n",
       "    <tr>\n",
       "      <th>1</th>\n",
       "      <td>40</td>\n",
       "      <td>650000</td>\n",
       "    </tr>\n",
       "    <tr>\n",
       "      <th>2</th>\n",
       "      <td>65</td>\n",
       "      <td>566777</td>\n",
       "    </tr>\n",
       "  </tbody>\n",
       "</table>\n",
       "</div>"
      ],
      "text/plain": [
       "   age  salary\n",
       "0   25   50000\n",
       "1   40  650000\n",
       "2   65  566777"
      ]
     },
     "execution_count": 616,
     "metadata": {},
     "output_type": "execute_result"
    }
   ],
   "source": [
    "df['age']=df['age'].astype('int32')\n",
    "df['salary']=df['salary'].astype('int32')\n",
    "df"
   ]
  },
  {
   "cell_type": "code",
   "execution_count": 617,
   "id": "ead4e403-2d75-4f90-bc44-e0bf3697f026",
   "metadata": {},
   "outputs": [
    {
     "name": "stdout",
     "output_type": "stream",
     "text": [
      "<class 'pandas.core.frame.DataFrame'>\n",
      "RangeIndex: 3 entries, 0 to 2\n",
      "Data columns (total 2 columns):\n",
      " #   Column  Non-Null Count  Dtype\n",
      "---  ------  --------------  -----\n",
      " 0   age     3 non-null      int32\n",
      " 1   salary  3 non-null      int32\n",
      "dtypes: int32(2)\n",
      "memory usage: 156.0 bytes\n"
     ]
    }
   ],
   "source": [
    "df.info()"
   ]
  },
  {
   "cell_type": "markdown",
   "id": "18a61df3-8784-40e4-8d2d-29c755de9b5e",
   "metadata": {},
   "source": [
    "## object ,datetime datatype"
   ]
  },
  {
   "cell_type": "code",
   "execution_count": 619,
   "id": "95636d67-2cb7-4165-8589-f8e78bd25ffa",
   "metadata": {},
   "outputs": [],
   "source": [
    "import pandas as pd"
   ]
  },
  {
   "cell_type": "code",
   "execution_count": 620,
   "id": "04e88c8b-91dc-4e8c-9707-d04767335ae8",
   "metadata": {},
   "outputs": [],
   "source": [
    "data={\n",
    "    'name':['ras','zannat','rishan'],\n",
    "    'age':[25,24,23],\n",
    "    'city':['erl','nur','mun']\n",
    "}"
   ]
  },
  {
   "cell_type": "code",
   "execution_count": 621,
   "id": "4afeee6f-fd9d-488c-9df1-fd7c130ed9b0",
   "metadata": {},
   "outputs": [
    {
     "name": "stdout",
     "output_type": "stream",
     "text": [
      "name    object\n",
      "age      int64\n",
      "city    object\n",
      "dtype: object\n"
     ]
    }
   ],
   "source": [
    "df=pd.DataFrame(data)\n",
    "print(df.dtypes)"
   ]
  },
  {
   "cell_type": "code",
   "execution_count": 622,
   "id": "506dc01b-afdb-494a-a39d-778ba51f6424",
   "metadata": {},
   "outputs": [
    {
     "data": {
      "text/plain": [
       "dtype('O')"
      ]
     },
     "execution_count": 622,
     "metadata": {},
     "output_type": "execute_result"
    }
   ],
   "source": [
    "dates=['2028-10-04','2024-11-15']\n",
    "df1=pd.DataFrame({'dae':dates})\n",
    "df1['dae'].dtype"
   ]
  },
  {
   "cell_type": "code",
   "execution_count": 623,
   "id": "1dd50070-cc4e-4116-80b4-686b533d1c1c",
   "metadata": {},
   "outputs": [
    {
     "data": {
      "text/html": [
       "<div>\n",
       "<style scoped>\n",
       "    .dataframe tbody tr th:only-of-type {\n",
       "        vertical-align: middle;\n",
       "    }\n",
       "\n",
       "    .dataframe tbody tr th {\n",
       "        vertical-align: top;\n",
       "    }\n",
       "\n",
       "    .dataframe thead th {\n",
       "        text-align: right;\n",
       "    }\n",
       "</style>\n",
       "<table border=\"1\" class=\"dataframe\">\n",
       "  <thead>\n",
       "    <tr style=\"text-align: right;\">\n",
       "      <th></th>\n",
       "      <th>date2</th>\n",
       "    </tr>\n",
       "  </thead>\n",
       "  <tbody>\n",
       "    <tr>\n",
       "      <th>0</th>\n",
       "      <td>2028-10-04</td>\n",
       "    </tr>\n",
       "    <tr>\n",
       "      <th>1</th>\n",
       "      <td>2024-11-15</td>\n",
       "    </tr>\n",
       "  </tbody>\n",
       "</table>\n",
       "</div>"
      ],
      "text/plain": [
       "       date2\n",
       "0 2028-10-04\n",
       "1 2024-11-15"
      ]
     },
     "execution_count": 623,
     "metadata": {},
     "output_type": "execute_result"
    }
   ],
   "source": [
    "timestamps=pd.to_datetime(dates)\n",
    "df2=pd.DataFrame({'date2':timestamps})\n",
    "df2"
   ]
  },
  {
   "cell_type": "code",
   "execution_count": 624,
   "id": "462fbe5e-f8d9-4bcb-aaf1-647e7936a9d9",
   "metadata": {},
   "outputs": [
    {
     "data": {
      "text/plain": [
       "dtype('O')"
      ]
     },
     "execution_count": 624,
     "metadata": {},
     "output_type": "execute_result"
    }
   ],
   "source": [
    "dates=['2028','2024']\n",
    "df1=pd.DataFrame({'dae':dates})\n",
    "timestamps=pd.to_datetime(dates)\n",
    "df2=pd.DataFrame({'date2':timestamps})\n",
    "df1['dae'].dtype"
   ]
  },
  {
   "cell_type": "code",
   "execution_count": 625,
   "id": "04135ff8-1fcf-48f6-92ef-9085a0cf9c7f",
   "metadata": {},
   "outputs": [
    {
     "data": {
      "text/html": [
       "<div>\n",
       "<style scoped>\n",
       "    .dataframe tbody tr th:only-of-type {\n",
       "        vertical-align: middle;\n",
       "    }\n",
       "\n",
       "    .dataframe tbody tr th {\n",
       "        vertical-align: top;\n",
       "    }\n",
       "\n",
       "    .dataframe thead th {\n",
       "        text-align: right;\n",
       "    }\n",
       "</style>\n",
       "<table border=\"1\" class=\"dataframe\">\n",
       "  <thead>\n",
       "    <tr style=\"text-align: right;\">\n",
       "      <th></th>\n",
       "      <th>date2</th>\n",
       "    </tr>\n",
       "  </thead>\n",
       "  <tbody>\n",
       "    <tr>\n",
       "      <th>0</th>\n",
       "      <td>2028-01-01</td>\n",
       "    </tr>\n",
       "    <tr>\n",
       "      <th>1</th>\n",
       "      <td>2024-01-01</td>\n",
       "    </tr>\n",
       "  </tbody>\n",
       "</table>\n",
       "</div>"
      ],
      "text/plain": [
       "       date2\n",
       "0 2028-01-01\n",
       "1 2024-01-01"
      ]
     },
     "execution_count": 625,
     "metadata": {},
     "output_type": "execute_result"
    }
   ],
   "source": [
    "df2"
   ]
  },
  {
   "cell_type": "code",
   "execution_count": 626,
   "id": "bf748037-37b0-4b3e-a737-21209611b1f5",
   "metadata": {},
   "outputs": [
    {
     "data": {
      "text/plain": [
       "0   2028-01-01\n",
       "1   2024-01-01\n",
       "Name: date, dtype: datetime64[ns]"
      ]
     },
     "execution_count": 626,
     "metadata": {},
     "output_type": "execute_result"
    }
   ],
   "source": [
    "times=pd.to_datetime(dates)\n",
    "series=pd.Series(times,name='date')\n",
    "series"
   ]
  },
  {
   "cell_type": "markdown",
   "id": "b500f6fd-90d8-49bb-b730-9a412f0de556",
   "metadata": {},
   "source": [
    "## reading data from csv/excel"
   ]
  },
  {
   "cell_type": "code",
   "execution_count": 628,
   "id": "a32d1f20-3157-4481-9a64-c35f86b6c62e",
   "metadata": {},
   "outputs": [],
   "source": [
    "import pandas as pd\n",
    "df=pd.read_excel(r\"C:\\Users\\HP\\Downloads\\New Microsoft Excel Worksheet.xlsx\")"
   ]
  },
  {
   "cell_type": "code",
   "execution_count": 629,
   "id": "e09658f8-1c4d-473d-97d4-9a1fcb458fbf",
   "metadata": {},
   "outputs": [
    {
     "data": {
      "text/html": [
       "<div>\n",
       "<style scoped>\n",
       "    .dataframe tbody tr th:only-of-type {\n",
       "        vertical-align: middle;\n",
       "    }\n",
       "\n",
       "    .dataframe tbody tr th {\n",
       "        vertical-align: top;\n",
       "    }\n",
       "\n",
       "    .dataframe thead th {\n",
       "        text-align: right;\n",
       "    }\n",
       "</style>\n",
       "<table border=\"1\" class=\"dataframe\">\n",
       "  <thead>\n",
       "    <tr style=\"text-align: right;\">\n",
       "      <th></th>\n",
       "      <th>Unnamed: 0</th>\n",
       "      <th>Unnamed: 1</th>\n",
       "      <th>Unnamed: 2</th>\n",
       "      <th>Unnamed: 3</th>\n",
       "      <th>33</th>\n",
       "      <th>66</th>\n",
       "    </tr>\n",
       "  </thead>\n",
       "  <tbody>\n",
       "    <tr>\n",
       "      <th>0</th>\n",
       "      <td>NaN</td>\n",
       "      <td>NaN</td>\n",
       "      <td>NaN</td>\n",
       "      <td>NaN</td>\n",
       "      <td>33</td>\n",
       "      <td>78</td>\n",
       "    </tr>\n",
       "    <tr>\n",
       "      <th>1</th>\n",
       "      <td>NaN</td>\n",
       "      <td>NaN</td>\n",
       "      <td>NaN</td>\n",
       "      <td>NaN</td>\n",
       "      <td>55</td>\n",
       "      <td>66</td>\n",
       "    </tr>\n",
       "    <tr>\n",
       "      <th>2</th>\n",
       "      <td>NaN</td>\n",
       "      <td>NaN</td>\n",
       "      <td>NaN</td>\n",
       "      <td>NaN</td>\n",
       "      <td>66</td>\n",
       "      <td>66</td>\n",
       "    </tr>\n",
       "  </tbody>\n",
       "</table>\n",
       "</div>"
      ],
      "text/plain": [
       "   Unnamed: 0  Unnamed: 1  Unnamed: 2  Unnamed: 3  33  66\n",
       "0         NaN         NaN         NaN         NaN  33  78\n",
       "1         NaN         NaN         NaN         NaN  55  66\n",
       "2         NaN         NaN         NaN         NaN  66  66"
      ]
     },
     "execution_count": 629,
     "metadata": {},
     "output_type": "execute_result"
    }
   ],
   "source": [
    "df"
   ]
  },
  {
   "cell_type": "markdown",
   "id": "06bce7f6-d68a-445f-a83e-fcaadfc8fa92",
   "metadata": {},
   "source": [
    "## Reading data set from github using request"
   ]
  },
  {
   "cell_type": "code",
   "execution_count": 631,
   "id": "34e0dac5-8a3f-44af-bed3-8d23456e5ab0",
   "metadata": {},
   "outputs": [],
   "source": [
    "import pandas as pd\n",
    "import requests\n",
    "from io import StringIO\n"
   ]
  },
  {
   "cell_type": "code",
   "execution_count": 632,
   "id": "e2e2cf53-2ced-4061-a38b-59b73c684c9d",
   "metadata": {},
   "outputs": [],
   "source": [
    "url=\"https://github.com/Jobayer08/PYTHON/raw/main/demo1.txt\"\n",
    "response=requests.get(url)"
   ]
  },
  {
   "cell_type": "code",
   "execution_count": 633,
   "id": "fd6e2a07-f376-4c33-939a-f39c0d62ca02",
   "metadata": {},
   "outputs": [],
   "source": [
    "csv_content=StringIO(response.text)"
   ]
  },
  {
   "cell_type": "code",
   "execution_count": 634,
   "id": "e2b26345-091c-4310-99e7-4f899cb5ecfc",
   "metadata": {},
   "outputs": [
    {
     "data": {
      "text/html": [
       "<div>\n",
       "<style scoped>\n",
       "    .dataframe tbody tr th:only-of-type {\n",
       "        vertical-align: middle;\n",
       "    }\n",
       "\n",
       "    .dataframe tbody tr th {\n",
       "        vertical-align: top;\n",
       "    }\n",
       "\n",
       "    .dataframe thead th {\n",
       "        text-align: right;\n",
       "    }\n",
       "</style>\n",
       "<table border=\"1\" class=\"dataframe\">\n",
       "  <thead>\n",
       "    <tr style=\"text-align: right;\">\n",
       "      <th></th>\n",
       "      <th>wantnt to learn</th>\n",
       "    </tr>\n",
       "  </thead>\n",
       "  <tbody>\n",
       "    <tr>\n",
       "      <th>0</th>\n",
       "      <td>i want to learn</td>\n",
       "    </tr>\n",
       "  </tbody>\n",
       "</table>\n",
       "</div>"
      ],
      "text/plain": [
       "   wantnt to learn\n",
       "0  i want to learn"
      ]
     },
     "execution_count": 634,
     "metadata": {},
     "output_type": "execute_result"
    }
   ],
   "source": [
    "df=pd.read_csv(csv_content)\n",
    "df.head()"
   ]
  },
  {
   "cell_type": "markdown",
   "id": "241d03c0-9ec5-4764-9ee9-1159c4ac3473",
   "metadata": {},
   "source": [
    "## Reading dataset from github using web get"
   ]
  },
  {
   "cell_type": "code",
   "execution_count": 636,
   "id": "49d718d3-09a6-4ab7-893a-6412064a8e00",
   "metadata": {},
   "outputs": [
    {
     "name": "stdout",
     "output_type": "stream",
     "text": [
      "Requirement already satisfied: wget in e:\\anaconda\\lib\\site-packages (3.2)\n"
     ]
    }
   ],
   "source": [
    "!pip install wget"
   ]
  },
  {
   "cell_type": "code",
   "execution_count": 637,
   "id": "87d1a574-948d-46e5-9846-bdb0219eb9b1",
   "metadata": {},
   "outputs": [],
   "source": [
    "import wget"
   ]
  },
  {
   "cell_type": "code",
   "execution_count": 638,
   "id": "bb8f2176-40e5-4e28-a7b5-ed643fdba8d0",
   "metadata": {},
   "outputs": [
    {
     "name": "stdout",
     "output_type": "stream",
     "text": [
      "100% [....................................................................................] 31 / 31"
     ]
    }
   ],
   "source": [
    "\n",
    "url=\"https://raw.githubusercontent.com/Jobayer08/PYTHON/refs/heads/main/demo1.txt\"\n",
    "file_path=wget.download(url)"
   ]
  },
  {
   "cell_type": "code",
   "execution_count": 639,
   "id": "3f7c83ad-210e-4cc8-b771-f909cbb1898a",
   "metadata": {},
   "outputs": [],
   "source": [
    "lf=pd.read_csv(file_path)"
   ]
  },
  {
   "cell_type": "code",
   "execution_count": 640,
   "id": "3b4cd6ee-40da-4062-994f-60c60f6022f7",
   "metadata": {},
   "outputs": [
    {
     "data": {
      "text/html": [
       "<div>\n",
       "<style scoped>\n",
       "    .dataframe tbody tr th:only-of-type {\n",
       "        vertical-align: middle;\n",
       "    }\n",
       "\n",
       "    .dataframe tbody tr th {\n",
       "        vertical-align: top;\n",
       "    }\n",
       "\n",
       "    .dataframe thead th {\n",
       "        text-align: right;\n",
       "    }\n",
       "</style>\n",
       "<table border=\"1\" class=\"dataframe\">\n",
       "  <thead>\n",
       "    <tr style=\"text-align: right;\">\n",
       "      <th></th>\n",
       "      <th>wantnt to learn</th>\n",
       "    </tr>\n",
       "  </thead>\n",
       "  <tbody>\n",
       "    <tr>\n",
       "      <th>0</th>\n",
       "      <td>i want to learn</td>\n",
       "    </tr>\n",
       "  </tbody>\n",
       "</table>\n",
       "</div>"
      ],
      "text/plain": [
       "   wantnt to learn\n",
       "0  i want to learn"
      ]
     },
     "execution_count": 640,
     "metadata": {},
     "output_type": "execute_result"
    }
   ],
   "source": [
    "lf.head()"
   ]
  },
  {
   "cell_type": "markdown",
   "id": "ef7c95a1-f51e-41b6-a744-a2262b8617cb",
   "metadata": {},
   "source": [
    "## Reading dataset from github using direct raw data url"
   ]
  },
  {
   "cell_type": "code",
   "execution_count": 642,
   "id": "9a07b417-d327-4104-8c91-b9797a83657f",
   "metadata": {},
   "outputs": [
    {
     "data": {
      "text/html": [
       "<div>\n",
       "<style scoped>\n",
       "    .dataframe tbody tr th:only-of-type {\n",
       "        vertical-align: middle;\n",
       "    }\n",
       "\n",
       "    .dataframe tbody tr th {\n",
       "        vertical-align: top;\n",
       "    }\n",
       "\n",
       "    .dataframe thead th {\n",
       "        text-align: right;\n",
       "    }\n",
       "</style>\n",
       "<table border=\"1\" class=\"dataframe\">\n",
       "  <thead>\n",
       "    <tr style=\"text-align: right;\">\n",
       "      <th></th>\n",
       "      <th>wantnt to learn</th>\n",
       "    </tr>\n",
       "  </thead>\n",
       "  <tbody>\n",
       "    <tr>\n",
       "      <th>0</th>\n",
       "      <td>i want to learn</td>\n",
       "    </tr>\n",
       "  </tbody>\n",
       "</table>\n",
       "</div>"
      ],
      "text/plain": [
       "   wantnt to learn\n",
       "0  i want to learn"
      ]
     },
     "execution_count": 642,
     "metadata": {},
     "output_type": "execute_result"
    }
   ],
   "source": [
    "url=\"https://raw.githubusercontent.com/Jobayer08/PYTHON/refs/heads/main/demo1.txt\"\n",
    "df=pd.read_csv(url)\n",
    "df.head()"
   ]
  },
  {
   "cell_type": "code",
   "execution_count": 643,
   "id": "b7946c28-cf50-4af6-9584-acfd78ddfdb1",
   "metadata": {},
   "outputs": [
    {
     "data": {
      "text/plain": [
       "(1, 1)"
      ]
     },
     "execution_count": 643,
     "metadata": {},
     "output_type": "execute_result"
    }
   ],
   "source": [
    "df.shape"
   ]
  },
  {
   "cell_type": "code",
   "execution_count": 644,
   "id": "3b383e37-fe29-4ba3-a8ab-951e63411468",
   "metadata": {},
   "outputs": [
    {
     "name": "stdout",
     "output_type": "stream",
     "text": [
      "Requirement already satisfied: gspread in e:\\anaconda\\lib\\site-packages (6.2.0)\n",
      "Requirement already satisfied: google-auth>=1.12.0 in e:\\anaconda\\lib\\site-packages (from gspread) (2.38.0)\n",
      "Requirement already satisfied: google-auth-oauthlib>=0.4.1 in e:\\anaconda\\lib\\site-packages (from gspread) (1.2.1)\n",
      "Requirement already satisfied: cachetools<6.0,>=2.0.0 in e:\\anaconda\\lib\\site-packages (from google-auth>=1.12.0->gspread) (5.3.3)\n",
      "Requirement already satisfied: pyasn1-modules>=0.2.1 in e:\\anaconda\\lib\\site-packages (from google-auth>=1.12.0->gspread) (0.2.8)\n",
      "Requirement already satisfied: rsa<5,>=3.1.4 in e:\\anaconda\\lib\\site-packages (from google-auth>=1.12.0->gspread) (4.9)\n",
      "Requirement already satisfied: requests-oauthlib>=0.7.0 in e:\\anaconda\\lib\\site-packages (from google-auth-oauthlib>=0.4.1->gspread) (2.0.0)\n",
      "Requirement already satisfied: pyasn1<0.5.0,>=0.4.6 in e:\\anaconda\\lib\\site-packages (from pyasn1-modules>=0.2.1->google-auth>=1.12.0->gspread) (0.4.8)\n",
      "Requirement already satisfied: oauthlib>=3.0.0 in e:\\anaconda\\lib\\site-packages (from requests-oauthlib>=0.7.0->google-auth-oauthlib>=0.4.1->gspread) (3.2.2)\n",
      "Requirement already satisfied: requests>=2.0.0 in e:\\anaconda\\lib\\site-packages (from requests-oauthlib>=0.7.0->google-auth-oauthlib>=0.4.1->gspread) (2.32.3)\n",
      "Requirement already satisfied: charset-normalizer<4,>=2 in e:\\anaconda\\lib\\site-packages (from requests>=2.0.0->requests-oauthlib>=0.7.0->google-auth-oauthlib>=0.4.1->gspread) (3.3.2)\n",
      "Requirement already satisfied: idna<4,>=2.5 in e:\\anaconda\\lib\\site-packages (from requests>=2.0.0->requests-oauthlib>=0.7.0->google-auth-oauthlib>=0.4.1->gspread) (3.7)\n",
      "Requirement already satisfied: urllib3<3,>=1.21.1 in e:\\anaconda\\lib\\site-packages (from requests>=2.0.0->requests-oauthlib>=0.7.0->google-auth-oauthlib>=0.4.1->gspread) (2.2.3)\n",
      "Requirement already satisfied: certifi>=2017.4.17 in e:\\anaconda\\lib\\site-packages (from requests>=2.0.0->requests-oauthlib>=0.7.0->google-auth-oauthlib>=0.4.1->gspread) (2024.12.14)\n"
     ]
    }
   ],
   "source": [
    "!pip install gspread"
   ]
  },
  {
   "cell_type": "code",
   "execution_count": 645,
   "id": "00498fa1-30f8-48d6-84c1-ee4d00b25f23",
   "metadata": {},
   "outputs": [],
   "source": [
    "import pandas as pd\n",
    "import gspread"
   ]
  },
  {
   "cell_type": "code",
   "execution_count": 646,
   "id": "53ce8787-68b3-4014-9560-26bb786f2bbe",
   "metadata": {},
   "outputs": [],
   "source": [
    "gc=gspread.service_account(filename=\"C:\\\\Users\\\\HP\\\\Downloads\\\\meta-buckeye-453019-n9-6b77afdeead8.json\")"
   ]
  },
  {
   "cell_type": "code",
   "execution_count": 647,
   "id": "ab802ea5-6be2-4ba1-85e5-478b99c3b114",
   "metadata": {},
   "outputs": [
    {
     "data": {
      "text/plain": [
       "<gspread.client.Client at 0x140ba67e480>"
      ]
     },
     "execution_count": 647,
     "metadata": {},
     "output_type": "execute_result"
    }
   ],
   "source": [
    "gc"
   ]
  },
  {
   "cell_type": "code",
   "execution_count": 648,
   "id": "2c0bd0ec-a4af-4d11-b78e-cb512d8ea9c6",
   "metadata": {},
   "outputs": [],
   "source": [
    "sheet=gc.open_by_url(\"https://docs.google.com/spreadsheets/d/1Lvu7NYlpfj17FsxY-0AP3UKJvTxvMqxAqsOHSZort5g/edit?usp=sharing\")"
   ]
  },
  {
   "cell_type": "code",
   "execution_count": 649,
   "id": "b2904b9e-0088-4761-9a10-30c18f934b00",
   "metadata": {},
   "outputs": [
    {
     "data": {
      "text/plain": [
       "<Spreadsheet 'PSTU IT Carnival 2024 -Final Round (Responses)' id:1Lvu7NYlpfj17FsxY-0AP3UKJvTxvMqxAqsOHSZort5g>"
      ]
     },
     "execution_count": 649,
     "metadata": {},
     "output_type": "execute_result"
    }
   ],
   "source": [
    "sheet"
   ]
  },
  {
   "cell_type": "code",
   "execution_count": 650,
   "id": "f0afe884-9264-4d39-853d-9c03c37e5516",
   "metadata": {},
   "outputs": [
    {
     "name": "stdout",
     "output_type": "stream",
     "text": [
      "Form responses 1\n"
     ]
    }
   ],
   "source": [
    "for ws in sheet.worksheets():\n",
    "    print(ws.title)\n"
   ]
  },
  {
   "cell_type": "code",
   "execution_count": 651,
   "id": "f3dcd7ab-37f6-4a9c-93a5-9a88853f9592",
   "metadata": {},
   "outputs": [],
   "source": [
    "ws=sheet.worksheet('Form responses 1')"
   ]
  },
  {
   "cell_type": "code",
   "execution_count": 652,
   "id": "b23a3091-9275-4226-9a5b-50f4361b9cd6",
   "metadata": {},
   "outputs": [],
   "source": [
    "df=pd.DataFrame(ws.get_all_records())"
   ]
  },
  {
   "cell_type": "code",
   "execution_count": 653,
   "id": "48be743d-7fc9-4aa6-9f1e-e6abdee93cb1",
   "metadata": {},
   "outputs": [
    {
     "data": {
      "text/html": [
       "<div>\n",
       "<style scoped>\n",
       "    .dataframe tbody tr th:only-of-type {\n",
       "        vertical-align: middle;\n",
       "    }\n",
       "\n",
       "    .dataframe tbody tr th {\n",
       "        vertical-align: top;\n",
       "    }\n",
       "\n",
       "    .dataframe thead th {\n",
       "        text-align: right;\n",
       "    }\n",
       "</style>\n",
       "<table border=\"1\" class=\"dataframe\">\n",
       "  <thead>\n",
       "    <tr style=\"text-align: right;\">\n",
       "      <th></th>\n",
       "      <th>Timestamp</th>\n",
       "      <th>Team Name :</th>\n",
       "      <th>Youtube Link</th>\n",
       "    </tr>\n",
       "  </thead>\n",
       "  <tbody>\n",
       "    <tr>\n",
       "      <th>0</th>\n",
       "      <td>29/11/2024 13:51:59</td>\n",
       "      <td>THE_CHIEFS</td>\n",
       "      <td>https://youtu.be/7ZD6NRdB-To</td>\n",
       "    </tr>\n",
       "    <tr>\n",
       "      <th>1</th>\n",
       "      <td>29/11/2024 14:17:29</td>\n",
       "      <td>PSTU_RECURSION</td>\n",
       "      <td>https://forms.gle/5PfyhquoFgCEidF39</td>\n",
       "    </tr>\n",
       "    <tr>\n",
       "      <th>2</th>\n",
       "      <td>29/11/2024 14:48:16</td>\n",
       "      <td>inflation vanguard</td>\n",
       "      <td>https://youtu.be/lW8ulYdUoUY?si=FpELaptk_ZbdWPAm</td>\n",
       "    </tr>\n",
       "    <tr>\n",
       "      <th>3</th>\n",
       "      <td>29/11/2024 14:52:58</td>\n",
       "      <td>PSTU_Eco_Innovators</td>\n",
       "      <td>https://youtu.be/qo4tMoC0_8A</td>\n",
       "    </tr>\n",
       "    <tr>\n",
       "      <th>4</th>\n",
       "      <td>29/11/2024 14:57:56</td>\n",
       "      <td>Teen Titans</td>\n",
       "      <td>https://youtu.be/sLJItlmUt14?si=wERxCtMtAFnOCKwe</td>\n",
       "    </tr>\n",
       "    <tr>\n",
       "      <th>5</th>\n",
       "      <td>29/11/2024 14:58:17</td>\n",
       "      <td>BeeHive</td>\n",
       "      <td>https://youtu.be/m1CRpnnr-3k?si=SZPKMTiiz3Cf6nRR</td>\n",
       "    </tr>\n",
       "    <tr>\n",
       "      <th>6</th>\n",
       "      <td>29/11/2024 14:58:17</td>\n",
       "      <td>Green Challengers</td>\n",
       "      <td>https://youtu.be/QDC0q8DFE8U</td>\n",
       "    </tr>\n",
       "    <tr>\n",
       "      <th>7</th>\n",
       "      <td>29/11/2024 15:00:49</td>\n",
       "      <td>Revive Rangers</td>\n",
       "      <td>https://youtu.be/LecKjLw1w2I</td>\n",
       "    </tr>\n",
       "    <tr>\n",
       "      <th>8</th>\n",
       "      <td>29/11/2024 15:01:24</td>\n",
       "      <td>Mostly_surviving</td>\n",
       "      <td>https://youtu.be/eMFK5OZh0nc</td>\n",
       "    </tr>\n",
       "    <tr>\n",
       "      <th>9</th>\n",
       "      <td>29/11/2024 15:11:06</td>\n",
       "      <td>Noobies</td>\n",
       "      <td>https://youtu.be/T90Gyf59FBk</td>\n",
       "    </tr>\n",
       "    <tr>\n",
       "      <th>10</th>\n",
       "      <td>29/11/2024 15:12:15</td>\n",
       "      <td>Team_SSPTR</td>\n",
       "      <td>https://youtu.be/SVu0hyxUvfE</td>\n",
       "    </tr>\n",
       "    <tr>\n",
       "      <th>11</th>\n",
       "      <td>29/11/2024 15:12:55</td>\n",
       "      <td>Aspirant</td>\n",
       "      <td>https://youtu.be/T7e-6BrGZ5s</td>\n",
       "    </tr>\n",
       "    <tr>\n",
       "      <th>12</th>\n",
       "      <td>29/11/2024 15:29:18</td>\n",
       "      <td>UGV_Squad (Re)</td>\n",
       "      <td>https://youtu.be/194OAhS337o</td>\n",
       "    </tr>\n",
       "    <tr>\n",
       "      <th>13</th>\n",
       "      <td>29/11/2024 15:40:22</td>\n",
       "      <td>M square</td>\n",
       "      <td>https://youtu.be/HLL-NnJAopQ?feature=shared</td>\n",
       "    </tr>\n",
       "    <tr>\n",
       "      <th>14</th>\n",
       "      <td>29/11/2024 15:44:44</td>\n",
       "      <td>Binary Brains</td>\n",
       "      <td>https://youtu.be/zgaEBDxgz4E</td>\n",
       "    </tr>\n",
       "    <tr>\n",
       "      <th>15</th>\n",
       "      <td>29/11/2024 15:47:13</td>\n",
       "      <td>PSTU LifeLine Pioneers</td>\n",
       "      <td>https://youtu.be/IMSkg6A7Zfg</td>\n",
       "    </tr>\n",
       "    <tr>\n",
       "      <th>16</th>\n",
       "      <td>29/11/2024 16:11:40</td>\n",
       "      <td>Binary Brains</td>\n",
       "      <td>https://youtu.be/nXeCb-HQ3uQ</td>\n",
       "    </tr>\n",
       "  </tbody>\n",
       "</table>\n",
       "</div>"
      ],
      "text/plain": [
       "              Timestamp            Team Name :   \\\n",
       "0   29/11/2024 13:51:59              THE_CHIEFS   \n",
       "1   29/11/2024 14:17:29          PSTU_RECURSION   \n",
       "2   29/11/2024 14:48:16     inflation vanguard    \n",
       "3   29/11/2024 14:52:58     PSTU_Eco_Innovators   \n",
       "4   29/11/2024 14:57:56            Teen Titans    \n",
       "5   29/11/2024 14:58:17                 BeeHive   \n",
       "6   29/11/2024 14:58:17       Green Challengers   \n",
       "7   29/11/2024 15:00:49          Revive Rangers   \n",
       "8   29/11/2024 15:01:24       Mostly_surviving    \n",
       "9   29/11/2024 15:11:06                 Noobies   \n",
       "10  29/11/2024 15:12:15              Team_SSPTR   \n",
       "11  29/11/2024 15:12:55                Aspirant   \n",
       "12  29/11/2024 15:29:18          UGV_Squad (Re)   \n",
       "13  29/11/2024 15:40:22               M square    \n",
       "14  29/11/2024 15:44:44           Binary Brains   \n",
       "15  29/11/2024 15:47:13  PSTU LifeLine Pioneers   \n",
       "16  29/11/2024 16:11:40           Binary Brains   \n",
       "\n",
       "                                        Youtube Link  \n",
       "0                       https://youtu.be/7ZD6NRdB-To  \n",
       "1                https://forms.gle/5PfyhquoFgCEidF39  \n",
       "2   https://youtu.be/lW8ulYdUoUY?si=FpELaptk_ZbdWPAm  \n",
       "3                       https://youtu.be/qo4tMoC0_8A  \n",
       "4   https://youtu.be/sLJItlmUt14?si=wERxCtMtAFnOCKwe  \n",
       "5   https://youtu.be/m1CRpnnr-3k?si=SZPKMTiiz3Cf6nRR  \n",
       "6                       https://youtu.be/QDC0q8DFE8U  \n",
       "7                       https://youtu.be/LecKjLw1w2I  \n",
       "8                       https://youtu.be/eMFK5OZh0nc  \n",
       "9                       https://youtu.be/T90Gyf59FBk  \n",
       "10                      https://youtu.be/SVu0hyxUvfE  \n",
       "11                      https://youtu.be/T7e-6BrGZ5s  \n",
       "12                      https://youtu.be/194OAhS337o  \n",
       "13       https://youtu.be/HLL-NnJAopQ?feature=shared  \n",
       "14                      https://youtu.be/zgaEBDxgz4E  \n",
       "15                      https://youtu.be/IMSkg6A7Zfg  \n",
       "16                      https://youtu.be/nXeCb-HQ3uQ  "
      ]
     },
     "execution_count": 653,
     "metadata": {},
     "output_type": "execute_result"
    }
   ],
   "source": [
    "df"
   ]
  },
  {
   "cell_type": "code",
   "execution_count": 654,
   "id": "7a3d2bd0-7401-4a17-9276-ce25e66dfa1d",
   "metadata": {},
   "outputs": [
    {
     "data": {
      "text/plain": [
       "(17, 3)"
      ]
     },
     "execution_count": 654,
     "metadata": {},
     "output_type": "execute_result"
    }
   ],
   "source": [
    "df.shape"
   ]
  },
  {
   "cell_type": "code",
   "execution_count": 655,
   "id": "89a033b1-79c7-4e80-b131-c41b1c375b31",
   "metadata": {},
   "outputs": [
    {
     "data": {
      "text/html": [
       "<div>\n",
       "<style scoped>\n",
       "    .dataframe tbody tr th:only-of-type {\n",
       "        vertical-align: middle;\n",
       "    }\n",
       "\n",
       "    .dataframe tbody tr th {\n",
       "        vertical-align: top;\n",
       "    }\n",
       "\n",
       "    .dataframe thead th {\n",
       "        text-align: right;\n",
       "    }\n",
       "</style>\n",
       "<table border=\"1\" class=\"dataframe\">\n",
       "  <thead>\n",
       "    <tr style=\"text-align: right;\">\n",
       "      <th></th>\n",
       "      <th>Timestamp</th>\n",
       "      <th>Team Name :</th>\n",
       "      <th>Youtube Link</th>\n",
       "    </tr>\n",
       "  </thead>\n",
       "  <tbody>\n",
       "    <tr>\n",
       "      <th>0</th>\n",
       "      <td>29/11/2024 13:51:59</td>\n",
       "      <td>THE_CHIEFS</td>\n",
       "      <td>https://youtu.be/7ZD6NRdB-To</td>\n",
       "    </tr>\n",
       "    <tr>\n",
       "      <th>1</th>\n",
       "      <td>29/11/2024 14:17:29</td>\n",
       "      <td>PSTU_RECURSION</td>\n",
       "      <td>https://forms.gle/5PfyhquoFgCEidF39</td>\n",
       "    </tr>\n",
       "    <tr>\n",
       "      <th>2</th>\n",
       "      <td>29/11/2024 14:48:16</td>\n",
       "      <td>inflation vanguard</td>\n",
       "      <td>https://youtu.be/lW8ulYdUoUY?si=FpELaptk_ZbdWPAm</td>\n",
       "    </tr>\n",
       "    <tr>\n",
       "      <th>3</th>\n",
       "      <td>29/11/2024 14:52:58</td>\n",
       "      <td>PSTU_Eco_Innovators</td>\n",
       "      <td>https://youtu.be/qo4tMoC0_8A</td>\n",
       "    </tr>\n",
       "    <tr>\n",
       "      <th>4</th>\n",
       "      <td>29/11/2024 14:57:56</td>\n",
       "      <td>Teen Titans</td>\n",
       "      <td>https://youtu.be/sLJItlmUt14?si=wERxCtMtAFnOCKwe</td>\n",
       "    </tr>\n",
       "  </tbody>\n",
       "</table>\n",
       "</div>"
      ],
      "text/plain": [
       "             Timestamp         Team Name :   \\\n",
       "0  29/11/2024 13:51:59           THE_CHIEFS   \n",
       "1  29/11/2024 14:17:29       PSTU_RECURSION   \n",
       "2  29/11/2024 14:48:16  inflation vanguard    \n",
       "3  29/11/2024 14:52:58  PSTU_Eco_Innovators   \n",
       "4  29/11/2024 14:57:56         Teen Titans    \n",
       "\n",
       "                                       Youtube Link  \n",
       "0                      https://youtu.be/7ZD6NRdB-To  \n",
       "1               https://forms.gle/5PfyhquoFgCEidF39  \n",
       "2  https://youtu.be/lW8ulYdUoUY?si=FpELaptk_ZbdWPAm  \n",
       "3                      https://youtu.be/qo4tMoC0_8A  \n",
       "4  https://youtu.be/sLJItlmUt14?si=wERxCtMtAFnOCKwe  "
      ]
     },
     "execution_count": 655,
     "metadata": {},
     "output_type": "execute_result"
    }
   ],
   "source": [
    "df.head()"
   ]
  },
  {
   "cell_type": "code",
   "execution_count": 656,
   "id": "97c6dc05-0e44-43f6-b42a-16e21adec0ff",
   "metadata": {},
   "outputs": [
    {
     "data": {
      "text/html": [
       "<div>\n",
       "<style scoped>\n",
       "    .dataframe tbody tr th:only-of-type {\n",
       "        vertical-align: middle;\n",
       "    }\n",
       "\n",
       "    .dataframe tbody tr th {\n",
       "        vertical-align: top;\n",
       "    }\n",
       "\n",
       "    .dataframe thead th {\n",
       "        text-align: right;\n",
       "    }\n",
       "</style>\n",
       "<table border=\"1\" class=\"dataframe\">\n",
       "  <thead>\n",
       "    <tr style=\"text-align: right;\">\n",
       "      <th></th>\n",
       "      <th>Timestamp</th>\n",
       "      <th>Team Name :</th>\n",
       "      <th>Youtube Link</th>\n",
       "    </tr>\n",
       "  </thead>\n",
       "  <tbody>\n",
       "    <tr>\n",
       "      <th>0</th>\n",
       "      <td>29/11/2024 13:51:59</td>\n",
       "      <td>THE_CHIEFS</td>\n",
       "      <td>https://youtu.be/7ZD6NRdB-To</td>\n",
       "    </tr>\n",
       "    <tr>\n",
       "      <th>1</th>\n",
       "      <td>29/11/2024 14:17:29</td>\n",
       "      <td>PSTU_RECURSION</td>\n",
       "      <td>https://forms.gle/5PfyhquoFgCEidF39</td>\n",
       "    </tr>\n",
       "  </tbody>\n",
       "</table>\n",
       "</div>"
      ],
      "text/plain": [
       "             Timestamp    Team Name :                          Youtube Link\n",
       "0  29/11/2024 13:51:59      THE_CHIEFS         https://youtu.be/7ZD6NRdB-To\n",
       "1  29/11/2024 14:17:29  PSTU_RECURSION  https://forms.gle/5PfyhquoFgCEidF39"
      ]
     },
     "execution_count": 656,
     "metadata": {},
     "output_type": "execute_result"
    }
   ],
   "source": [
    "df.head(2)"
   ]
  },
  {
   "cell_type": "code",
   "execution_count": 657,
   "id": "20a0e0fb-6027-414a-807b-8b6e52b1754d",
   "metadata": {},
   "outputs": [
    {
     "data": {
      "text/html": [
       "<div>\n",
       "<style scoped>\n",
       "    .dataframe tbody tr th:only-of-type {\n",
       "        vertical-align: middle;\n",
       "    }\n",
       "\n",
       "    .dataframe tbody tr th {\n",
       "        vertical-align: top;\n",
       "    }\n",
       "\n",
       "    .dataframe thead th {\n",
       "        text-align: right;\n",
       "    }\n",
       "</style>\n",
       "<table border=\"1\" class=\"dataframe\">\n",
       "  <thead>\n",
       "    <tr style=\"text-align: right;\">\n",
       "      <th></th>\n",
       "      <th>Timestamp</th>\n",
       "      <th>Team Name :</th>\n",
       "      <th>Youtube Link</th>\n",
       "    </tr>\n",
       "  </thead>\n",
       "  <tbody>\n",
       "    <tr>\n",
       "      <th>12</th>\n",
       "      <td>29/11/2024 15:29:18</td>\n",
       "      <td>UGV_Squad (Re)</td>\n",
       "      <td>https://youtu.be/194OAhS337o</td>\n",
       "    </tr>\n",
       "    <tr>\n",
       "      <th>13</th>\n",
       "      <td>29/11/2024 15:40:22</td>\n",
       "      <td>M square</td>\n",
       "      <td>https://youtu.be/HLL-NnJAopQ?feature=shared</td>\n",
       "    </tr>\n",
       "    <tr>\n",
       "      <th>14</th>\n",
       "      <td>29/11/2024 15:44:44</td>\n",
       "      <td>Binary Brains</td>\n",
       "      <td>https://youtu.be/zgaEBDxgz4E</td>\n",
       "    </tr>\n",
       "    <tr>\n",
       "      <th>15</th>\n",
       "      <td>29/11/2024 15:47:13</td>\n",
       "      <td>PSTU LifeLine Pioneers</td>\n",
       "      <td>https://youtu.be/IMSkg6A7Zfg</td>\n",
       "    </tr>\n",
       "    <tr>\n",
       "      <th>16</th>\n",
       "      <td>29/11/2024 16:11:40</td>\n",
       "      <td>Binary Brains</td>\n",
       "      <td>https://youtu.be/nXeCb-HQ3uQ</td>\n",
       "    </tr>\n",
       "  </tbody>\n",
       "</table>\n",
       "</div>"
      ],
      "text/plain": [
       "              Timestamp            Team Name :   \\\n",
       "12  29/11/2024 15:29:18          UGV_Squad (Re)   \n",
       "13  29/11/2024 15:40:22               M square    \n",
       "14  29/11/2024 15:44:44           Binary Brains   \n",
       "15  29/11/2024 15:47:13  PSTU LifeLine Pioneers   \n",
       "16  29/11/2024 16:11:40           Binary Brains   \n",
       "\n",
       "                                   Youtube Link  \n",
       "12                 https://youtu.be/194OAhS337o  \n",
       "13  https://youtu.be/HLL-NnJAopQ?feature=shared  \n",
       "14                 https://youtu.be/zgaEBDxgz4E  \n",
       "15                 https://youtu.be/IMSkg6A7Zfg  \n",
       "16                 https://youtu.be/nXeCb-HQ3uQ  "
      ]
     },
     "execution_count": 657,
     "metadata": {},
     "output_type": "execute_result"
    }
   ],
   "source": [
    "df.tail()"
   ]
  },
  {
   "cell_type": "code",
   "execution_count": 658,
   "id": "5f61bc7e-71f9-4fee-9c23-b248fd40c650",
   "metadata": {},
   "outputs": [
    {
     "data": {
      "text/html": [
       "<div>\n",
       "<style scoped>\n",
       "    .dataframe tbody tr th:only-of-type {\n",
       "        vertical-align: middle;\n",
       "    }\n",
       "\n",
       "    .dataframe tbody tr th {\n",
       "        vertical-align: top;\n",
       "    }\n",
       "\n",
       "    .dataframe thead th {\n",
       "        text-align: right;\n",
       "    }\n",
       "</style>\n",
       "<table border=\"1\" class=\"dataframe\">\n",
       "  <thead>\n",
       "    <tr style=\"text-align: right;\">\n",
       "      <th></th>\n",
       "      <th>Timestamp</th>\n",
       "      <th>Team Name :</th>\n",
       "      <th>Youtube Link</th>\n",
       "    </tr>\n",
       "  </thead>\n",
       "  <tbody>\n",
       "    <tr>\n",
       "      <th>15</th>\n",
       "      <td>29/11/2024 15:47:13</td>\n",
       "      <td>PSTU LifeLine Pioneers</td>\n",
       "      <td>https://youtu.be/IMSkg6A7Zfg</td>\n",
       "    </tr>\n",
       "    <tr>\n",
       "      <th>16</th>\n",
       "      <td>29/11/2024 16:11:40</td>\n",
       "      <td>Binary Brains</td>\n",
       "      <td>https://youtu.be/nXeCb-HQ3uQ</td>\n",
       "    </tr>\n",
       "  </tbody>\n",
       "</table>\n",
       "</div>"
      ],
      "text/plain": [
       "              Timestamp            Team Name :                   Youtube Link\n",
       "15  29/11/2024 15:47:13  PSTU LifeLine Pioneers  https://youtu.be/IMSkg6A7Zfg\n",
       "16  29/11/2024 16:11:40           Binary Brains  https://youtu.be/nXeCb-HQ3uQ"
      ]
     },
     "execution_count": 658,
     "metadata": {},
     "output_type": "execute_result"
    }
   ],
   "source": [
    "df.tail(2)"
   ]
  },
  {
   "cell_type": "code",
   "execution_count": 659,
   "id": "35f07105-3316-46fa-b87a-20711eac5a7f",
   "metadata": {},
   "outputs": [
    {
     "data": {
      "text/html": [
       "<div>\n",
       "<style scoped>\n",
       "    .dataframe tbody tr th:only-of-type {\n",
       "        vertical-align: middle;\n",
       "    }\n",
       "\n",
       "    .dataframe tbody tr th {\n",
       "        vertical-align: top;\n",
       "    }\n",
       "\n",
       "    .dataframe thead th {\n",
       "        text-align: right;\n",
       "    }\n",
       "</style>\n",
       "<table border=\"1\" class=\"dataframe\">\n",
       "  <thead>\n",
       "    <tr style=\"text-align: right;\">\n",
       "      <th></th>\n",
       "      <th>Timestamp</th>\n",
       "      <th>Team Name :</th>\n",
       "      <th>Youtube Link</th>\n",
       "    </tr>\n",
       "  </thead>\n",
       "  <tbody>\n",
       "    <tr>\n",
       "      <th>3</th>\n",
       "      <td>29/11/2024 14:52:58</td>\n",
       "      <td>PSTU_Eco_Innovators</td>\n",
       "      <td>https://youtu.be/qo4tMoC0_8A</td>\n",
       "    </tr>\n",
       "    <tr>\n",
       "      <th>4</th>\n",
       "      <td>29/11/2024 14:57:56</td>\n",
       "      <td>Teen Titans</td>\n",
       "      <td>https://youtu.be/sLJItlmUt14?si=wERxCtMtAFnOCKwe</td>\n",
       "    </tr>\n",
       "  </tbody>\n",
       "</table>\n",
       "</div>"
      ],
      "text/plain": [
       "             Timestamp         Team Name :   \\\n",
       "3  29/11/2024 14:52:58  PSTU_Eco_Innovators   \n",
       "4  29/11/2024 14:57:56         Teen Titans    \n",
       "\n",
       "                                       Youtube Link  \n",
       "3                      https://youtu.be/qo4tMoC0_8A  \n",
       "4  https://youtu.be/sLJItlmUt14?si=wERxCtMtAFnOCKwe  "
      ]
     },
     "execution_count": 659,
     "metadata": {},
     "output_type": "execute_result"
    }
   ],
   "source": [
    "df[3:5]"
   ]
  },
  {
   "cell_type": "code",
   "execution_count": 660,
   "id": "2bf554c9-2e2d-4a1a-a37f-fc4aa7d25d23",
   "metadata": {},
   "outputs": [
    {
     "data": {
      "text/plain": [
       "0     29/11/2024 13:51:59\n",
       "1     29/11/2024 14:17:29\n",
       "2     29/11/2024 14:48:16\n",
       "3     29/11/2024 14:52:58\n",
       "4     29/11/2024 14:57:56\n",
       "5     29/11/2024 14:58:17\n",
       "6     29/11/2024 14:58:17\n",
       "7     29/11/2024 15:00:49\n",
       "8     29/11/2024 15:01:24\n",
       "9     29/11/2024 15:11:06\n",
       "10    29/11/2024 15:12:15\n",
       "11    29/11/2024 15:12:55\n",
       "12    29/11/2024 15:29:18\n",
       "13    29/11/2024 15:40:22\n",
       "14    29/11/2024 15:44:44\n",
       "15    29/11/2024 15:47:13\n",
       "16    29/11/2024 16:11:40\n",
       "Name: Timestamp, dtype: object"
      ]
     },
     "execution_count": 660,
     "metadata": {},
     "output_type": "execute_result"
    }
   ],
   "source": [
    "df.Timestamp\t"
   ]
  },
  {
   "cell_type": "code",
   "execution_count": 661,
   "id": "37e26f8b-dd44-4a08-b8e7-b07b4cb17211",
   "metadata": {},
   "outputs": [
    {
     "ename": "KeyError",
     "evalue": "'Team Name :'",
     "output_type": "error",
     "traceback": [
      "\u001b[1;31m---------------------------------------------------------------------------\u001b[0m",
      "\u001b[1;31mKeyError\u001b[0m                                  Traceback (most recent call last)",
      "File \u001b[1;32mE:\\Anaconda\\Lib\\site-packages\\pandas\\core\\indexes\\base.py:3805\u001b[0m, in \u001b[0;36mIndex.get_loc\u001b[1;34m(self, key)\u001b[0m\n\u001b[0;32m   3804\u001b[0m \u001b[38;5;28;01mtry\u001b[39;00m:\n\u001b[1;32m-> 3805\u001b[0m     \u001b[38;5;28;01mreturn\u001b[39;00m \u001b[38;5;28mself\u001b[39m\u001b[38;5;241m.\u001b[39m_engine\u001b[38;5;241m.\u001b[39mget_loc(casted_key)\n\u001b[0;32m   3806\u001b[0m \u001b[38;5;28;01mexcept\u001b[39;00m \u001b[38;5;167;01mKeyError\u001b[39;00m \u001b[38;5;28;01mas\u001b[39;00m err:\n",
      "File \u001b[1;32mindex.pyx:167\u001b[0m, in \u001b[0;36mpandas._libs.index.IndexEngine.get_loc\u001b[1;34m()\u001b[0m\n",
      "File \u001b[1;32mindex.pyx:196\u001b[0m, in \u001b[0;36mpandas._libs.index.IndexEngine.get_loc\u001b[1;34m()\u001b[0m\n",
      "File \u001b[1;32mpandas\\\\_libs\\\\hashtable_class_helper.pxi:7081\u001b[0m, in \u001b[0;36mpandas._libs.hashtable.PyObjectHashTable.get_item\u001b[1;34m()\u001b[0m\n",
      "File \u001b[1;32mpandas\\\\_libs\\\\hashtable_class_helper.pxi:7089\u001b[0m, in \u001b[0;36mpandas._libs.hashtable.PyObjectHashTable.get_item\u001b[1;34m()\u001b[0m\n",
      "\u001b[1;31mKeyError\u001b[0m: 'Team Name :'",
      "\nThe above exception was the direct cause of the following exception:\n",
      "\u001b[1;31mKeyError\u001b[0m                                  Traceback (most recent call last)",
      "Cell \u001b[1;32mIn[661], line 1\u001b[0m\n\u001b[1;32m----> 1\u001b[0m df[\u001b[38;5;124m'\u001b[39m\u001b[38;5;124mTeam Name :\u001b[39m\u001b[38;5;124m'\u001b[39m]\n",
      "File \u001b[1;32mE:\\Anaconda\\Lib\\site-packages\\pandas\\core\\frame.py:4102\u001b[0m, in \u001b[0;36mDataFrame.__getitem__\u001b[1;34m(self, key)\u001b[0m\n\u001b[0;32m   4100\u001b[0m \u001b[38;5;28;01mif\u001b[39;00m \u001b[38;5;28mself\u001b[39m\u001b[38;5;241m.\u001b[39mcolumns\u001b[38;5;241m.\u001b[39mnlevels \u001b[38;5;241m>\u001b[39m \u001b[38;5;241m1\u001b[39m:\n\u001b[0;32m   4101\u001b[0m     \u001b[38;5;28;01mreturn\u001b[39;00m \u001b[38;5;28mself\u001b[39m\u001b[38;5;241m.\u001b[39m_getitem_multilevel(key)\n\u001b[1;32m-> 4102\u001b[0m indexer \u001b[38;5;241m=\u001b[39m \u001b[38;5;28mself\u001b[39m\u001b[38;5;241m.\u001b[39mcolumns\u001b[38;5;241m.\u001b[39mget_loc(key)\n\u001b[0;32m   4103\u001b[0m \u001b[38;5;28;01mif\u001b[39;00m is_integer(indexer):\n\u001b[0;32m   4104\u001b[0m     indexer \u001b[38;5;241m=\u001b[39m [indexer]\n",
      "File \u001b[1;32mE:\\Anaconda\\Lib\\site-packages\\pandas\\core\\indexes\\base.py:3812\u001b[0m, in \u001b[0;36mIndex.get_loc\u001b[1;34m(self, key)\u001b[0m\n\u001b[0;32m   3807\u001b[0m     \u001b[38;5;28;01mif\u001b[39;00m \u001b[38;5;28misinstance\u001b[39m(casted_key, \u001b[38;5;28mslice\u001b[39m) \u001b[38;5;129;01mor\u001b[39;00m (\n\u001b[0;32m   3808\u001b[0m         \u001b[38;5;28misinstance\u001b[39m(casted_key, abc\u001b[38;5;241m.\u001b[39mIterable)\n\u001b[0;32m   3809\u001b[0m         \u001b[38;5;129;01mand\u001b[39;00m \u001b[38;5;28many\u001b[39m(\u001b[38;5;28misinstance\u001b[39m(x, \u001b[38;5;28mslice\u001b[39m) \u001b[38;5;28;01mfor\u001b[39;00m x \u001b[38;5;129;01min\u001b[39;00m casted_key)\n\u001b[0;32m   3810\u001b[0m     ):\n\u001b[0;32m   3811\u001b[0m         \u001b[38;5;28;01mraise\u001b[39;00m InvalidIndexError(key)\n\u001b[1;32m-> 3812\u001b[0m     \u001b[38;5;28;01mraise\u001b[39;00m \u001b[38;5;167;01mKeyError\u001b[39;00m(key) \u001b[38;5;28;01mfrom\u001b[39;00m \u001b[38;5;21;01merr\u001b[39;00m\n\u001b[0;32m   3813\u001b[0m \u001b[38;5;28;01mexcept\u001b[39;00m \u001b[38;5;167;01mTypeError\u001b[39;00m:\n\u001b[0;32m   3814\u001b[0m     \u001b[38;5;66;03m# If we have a listlike key, _check_indexing_error will raise\u001b[39;00m\n\u001b[0;32m   3815\u001b[0m     \u001b[38;5;66;03m#  InvalidIndexError. Otherwise we fall through and re-raise\u001b[39;00m\n\u001b[0;32m   3816\u001b[0m     \u001b[38;5;66;03m#  the TypeError.\u001b[39;00m\n\u001b[0;32m   3817\u001b[0m     \u001b[38;5;28mself\u001b[39m\u001b[38;5;241m.\u001b[39m_check_indexing_error(key)\n",
      "\u001b[1;31mKeyError\u001b[0m: 'Team Name :'"
     ]
    }
   ],
   "source": [
    "df['Team Name :']"
   ]
  },
  {
   "cell_type": "code",
   "execution_count": null,
   "id": "4a971a4a-e84c-4e5f-ab4c-a0c6d602c7c0",
   "metadata": {},
   "outputs": [],
   "source": [
    "print(df.columns)\n"
   ]
  },
  {
   "cell_type": "code",
   "execution_count": null,
   "id": "94ff8be0-195d-46fa-a61b-e2fc537a11ea",
   "metadata": {},
   "outputs": [],
   "source": [
    "df['Team Name : ']"
   ]
  },
  {
   "cell_type": "code",
   "execution_count": null,
   "id": "7447d9bc-163b-420a-b10e-85aa705c4a40",
   "metadata": {},
   "outputs": [],
   "source": [
    "df.Team Name : "
   ]
  },
  {
   "cell_type": "code",
   "execution_count": null,
   "id": "4bed1b2a-9ce6-42cc-9391-c27b426c4212",
   "metadata": {},
   "outputs": [],
   "source": [
    "df[['Team Name : ','Youtube Link']].head()"
   ]
  },
  {
   "cell_type": "code",
   "execution_count": null,
   "id": "68f22ec2-1648-4a93-9a55-52fa20400a30",
   "metadata": {},
   "outputs": [],
   "source": [
    "url='https://raw.githubusercontent.com/rashakil-ds/5-Minutes-to-Pandas/refs/heads/main/Datasets/Screen%20Time%20Data.csv'\n",
    "df=pd.read_csv(url)\n",
    "df.head()"
   ]
  },
  {
   "cell_type": "code",
   "execution_count": null,
   "id": "64c7ef59-8844-47bb-af6a-3a8e450e8af0",
   "metadata": {},
   "outputs": [],
   "source": [
    "df.index"
   ]
  },
  {
   "cell_type": "code",
   "execution_count": null,
   "id": "fafcb052-46d2-466f-a5ec-d5a785c80514",
   "metadata": {},
   "outputs": [],
   "source": [
    "len(df)"
   ]
  },
  {
   "cell_type": "code",
   "execution_count": null,
   "id": "833a9ba9-f634-4a53-b954-a6be925835d1",
   "metadata": {},
   "outputs": [],
   "source": [
    "df.columns"
   ]
  },
  {
   "cell_type": "code",
   "execution_count": null,
   "id": "dc3e1548-4289-4189-93a3-54b912646eac",
   "metadata": {},
   "outputs": [],
   "source": [
    "df['Total Screen Time '].max()"
   ]
  },
  {
   "cell_type": "code",
   "execution_count": null,
   "id": "44c923c0-24cd-4ec7-9794-1eb2f438e109",
   "metadata": {},
   "outputs": [],
   "source": [
    "df['Total Screen Time '].min()"
   ]
  },
  {
   "cell_type": "code",
   "execution_count": null,
   "id": "4a7a898e-304f-4ec2-bc97-ec028e6efa4e",
   "metadata": {},
   "outputs": [],
   "source": [
    "\n",
    "df['Total Screen Time '].mean()"
   ]
  },
  {
   "cell_type": "code",
   "execution_count": null,
   "id": "0789dc59-3e2c-4a14-a630-9217a05d25c1",
   "metadata": {},
   "outputs": [],
   "source": [
    "df['Total Screen Time '].std()"
   ]
  },
  {
   "cell_type": "code",
   "execution_count": null,
   "id": "69ba29b0-3d4c-4598-82cb-9c319e4c2911",
   "metadata": {},
   "outputs": [],
   "source": [
    "df['wantnt to learn'].mode()"
   ]
  },
  {
   "cell_type": "code",
   "execution_count": null,
   "id": "c2b09961-e4c4-4c36-93d5-9b431cad1d16",
   "metadata": {},
   "outputs": [],
   "source": [
    "df['Total Screen Time '].value_counts()"
   ]
  },
  {
   "cell_type": "code",
   "execution_count": null,
   "id": "6e2c4995-cdf9-4739-b5e7-c48b957bdf7d",
   "metadata": {},
   "outputs": [],
   "source": [
    "df['Total Screen Time '].quantile(.25)"
   ]
  },
  {
   "cell_type": "code",
   "execution_count": null,
   "id": "e53c5bab-1084-4d5a-99a8-3c9d85af833f",
   "metadata": {},
   "outputs": [],
   "source": [
    "df.describe()"
   ]
  },
  {
   "cell_type": "markdown",
   "id": "17cb8681-7fa3-4413-b4bd-ab6355382677",
   "metadata": {},
   "source": [
    "## Value Sorting"
   ]
  },
  {
   "cell_type": "code",
   "execution_count": null,
   "id": "6a52d81b-b88a-4b2e-9636-1f98c2de0b3a",
   "metadata": {},
   "outputs": [],
   "source": [
    "df.head()"
   ]
  },
  {
   "cell_type": "code",
   "execution_count": null,
   "id": "7358a2b5-4017-4427-a9ca-e5efaa8bc3d3",
   "metadata": {},
   "outputs": [],
   "source": [
    "df['Social Networking'].sort_values()"
   ]
  },
  {
   "cell_type": "code",
   "execution_count": null,
   "id": "60654b28-da89-4dfb-8c12-657b141aa51f",
   "metadata": {},
   "outputs": [],
   "source": [
    "df['Social Networking'].sort_values(ascending=False)"
   ]
  },
  {
   "cell_type": "code",
   "execution_count": null,
   "id": "3d4ecf9d-6733-4313-b573-9bfeea33c7a1",
   "metadata": {},
   "outputs": [],
   "source": [
    "df.nlargest(10,'Social Networking')"
   ]
  },
  {
   "cell_type": "code",
   "execution_count": null,
   "id": "8330b782-b28a-4541-9bf7-2b9beafdc3e8",
   "metadata": {},
   "outputs": [],
   "source": [
    "df.nsmallest(10,'Social Networking')"
   ]
  },
  {
   "cell_type": "markdown",
   "id": "121f5dfa-badb-42c2-92d4-fe8dd724cba7",
   "metadata": {},
   "source": [
    "## Conditional Statements"
   ]
  },
  {
   "cell_type": "code",
   "execution_count": null,
   "id": "3d0ef89f-553e-4143-8b7b-7d486db81b2a",
   "metadata": {},
   "outputs": [],
   "source": [
    "df['Social Networking'].max()"
   ]
  },
  {
   "cell_type": "code",
   "execution_count": null,
   "id": "a7160948-30a8-43fa-aaeb-6afcb7961348",
   "metadata": {},
   "outputs": [],
   "source": [
    "df['Social Networking']>70"
   ]
  },
  {
   "cell_type": "code",
   "execution_count": null,
   "id": "48469258-be85-4333-b107-7fccbd60e066",
   "metadata": {},
   "outputs": [],
   "source": [
    "df[df['Social Networking']>70]"
   ]
  },
  {
   "cell_type": "code",
   "execution_count": null,
   "id": "4d72d3ea-a393-413e-b45e-2526aa787b56",
   "metadata": {},
   "outputs": [],
   "source": [
    "df[df['Week Day']=='Wednesday']"
   ]
  },
  {
   "cell_type": "code",
   "execution_count": null,
   "id": "1a0fa29b-7825-4159-8bc6-2f6813d72ee7",
   "metadata": {},
   "outputs": [],
   "source": [
    "df[(df['Week Day']=='Wednesday')|(df['Week Day']=='Sunday')]"
   ]
  },
  {
   "cell_type": "code",
   "execution_count": null,
   "id": "a703f62f-cea9-45c0-b2fb-d370a92cdcaa",
   "metadata": {},
   "outputs": [],
   "source": [
    "df[(df['Week Day']=='Wednesday')&(df['Week Day']=='Sunday')]"
   ]
  },
  {
   "cell_type": "code",
   "execution_count": null,
   "id": "935f7dea-cbfd-4940-8772-61418b9679b8",
   "metadata": {},
   "outputs": [],
   "source": [
    "df[df['Week Day'].isin(['Wednesday','Sunday'])]"
   ]
  },
  {
   "cell_type": "markdown",
   "id": "7e1854ac-1354-4fd8-9c14-76629b89c75e",
   "metadata": {},
   "source": [
    "## common Q&A"
   ]
  },
  {
   "cell_type": "code",
   "execution_count": null,
   "id": "47cc102e-405c-49d4-bf72-a574c20b6655",
   "metadata": {},
   "outputs": [],
   "source": [
    "df[(df['Week Day']=='Wednesday')&(df['Entertainment']==0)]"
   ]
  },
  {
   "cell_type": "code",
   "execution_count": null,
   "id": "e470f981-3347-48e8-885d-14a7d4bb8d9a",
   "metadata": {},
   "outputs": [],
   "source": [
    "df['index'][df['Productivity']>15]"
   ]
  },
  {
   "cell_type": "code",
   "execution_count": null,
   "id": "5ca09444-3c6e-479e-b8c6-0a8cb5b6713d",
   "metadata": {},
   "outputs": [],
   "source": [
    "df[df['Productivity']==df['Productivity'].min()]"
   ]
  },
  {
   "cell_type": "code",
   "execution_count": null,
   "id": "d605e619-bfb5-477d-966b-3cca39cd61e9",
   "metadata": {},
   "outputs": [],
   "source": [
    "df[['index','Week Day','Social Networking']][df['Productivity']>15]"
   ]
  },
  {
   "cell_type": "code",
   "execution_count": null,
   "id": "4913790c-a0d6-44db-a6f5-00f00ea718ed",
   "metadata": {},
   "outputs": [],
   "source": [
    "df.head()"
   ]
  },
  {
   "cell_type": "code",
   "execution_count": null,
   "id": "5f69cb79-a9fe-48ac-9cdc-0469e29e8b10",
   "metadata": {},
   "outputs": [],
   "source": [
    "df.loc[0]"
   ]
  },
  {
   "cell_type": "code",
   "execution_count": null,
   "id": "bf9bf160-e530-4109-a051-dfa3c47669c3",
   "metadata": {},
   "outputs": [],
   "source": [
    "df.loc[0:3]"
   ]
  },
  {
   "cell_type": "code",
   "execution_count": null,
   "id": "4149dc24-6eaa-430a-8b66-4b9ac77c5597",
   "metadata": {},
   "outputs": [],
   "source": [
    "df.iloc[0:3]"
   ]
  },
  {
   "cell_type": "code",
   "execution_count": null,
   "id": "9b2f7e35-bb9b-4883-bc71-2c3ae86422d0",
   "metadata": {},
   "outputs": [],
   "source": [
    "data={\n",
    "    'name':['ras','zannat','rishan'],\n",
    "    'age':[25,24,23],\n",
    "    'city':['erl','nur','mun']\n",
    "}\n",
    "df2=pd.DataFrame(data)\n",
    "df2.head()"
   ]
  },
  {
   "cell_type": "code",
   "execution_count": null,
   "id": "44c7edcf-75e8-4bbb-aab4-c11b9460b269",
   "metadata": {},
   "outputs": [],
   "source": [
    "df2.set_index('city',inplace=True)"
   ]
  },
  {
   "cell_type": "code",
   "execution_count": null,
   "id": "b28f7723-0beb-4cd3-a168-401baa1a8be9",
   "metadata": {},
   "outputs": [],
   "source": [
    "df2"
   ]
  },
  {
   "cell_type": "code",
   "execution_count": null,
   "id": "3a3937de-d9dd-49b9-a942-bd2473ef3baa",
   "metadata": {},
   "outputs": [],
   "source": [
    "df2.loc[0]"
   ]
  },
  {
   "cell_type": "code",
   "execution_count": null,
   "id": "0108b1a1-4614-4fe4-8348-dd466ca244ed",
   "metadata": {},
   "outputs": [],
   "source": [
    "df2.loc['erl']"
   ]
  },
  {
   "cell_type": "code",
   "execution_count": null,
   "id": "a965e8a7-b971-4900-bc31-e52d023081dc",
   "metadata": {},
   "outputs": [],
   "source": [
    "df2.iloc[0]"
   ]
  },
  {
   "cell_type": "markdown",
   "id": "58d59f32-2054-4453-a69c-184c29fd9d7c",
   "metadata": {},
   "source": [
    "## delete columns "
   ]
  },
  {
   "cell_type": "code",
   "execution_count": null,
   "id": "13dae930-94aa-49ee-8fce-d647a7530afa",
   "metadata": {},
   "outputs": [],
   "source": [
    "del df['index']"
   ]
  },
  {
   "cell_type": "code",
   "execution_count": null,
   "id": "14a717ef-7d98-40ff-8a3d-67495e7b8a89",
   "metadata": {},
   "outputs": [],
   "source": [
    "df.head()"
   ]
  },
  {
   "cell_type": "code",
   "execution_count": null,
   "id": "e019c754-fef4-4209-ab6a-bc25a7a73266",
   "metadata": {},
   "outputs": [],
   "source": [
    "df.pop('Date').head()"
   ]
  },
  {
   "cell_type": "code",
   "execution_count": null,
   "id": "4fab868a-9021-4f60-917e-f672fb3e5935",
   "metadata": {},
   "outputs": [],
   "source": [
    "df.head()"
   ]
  },
  {
   "cell_type": "code",
   "execution_count": null,
   "id": "a920e963-397a-4da8-8348-c6dd7aa2fa3f",
   "metadata": {},
   "outputs": [],
   "source": [
    "df=df.loc[[1,2,3,4],['Total Screen Time ','Social Networking']]\n",
    "df.head()"
   ]
  },
  {
   "cell_type": "code",
   "execution_count": null,
   "id": "4c66fde8-3274-4cf5-b4c2-a7acc29dde4a",
   "metadata": {},
   "outputs": [],
   "source": [
    "df=df.iloc[[1,2,3],[0,1]]\n",
    "df.head()"
   ]
  },
  {
   "cell_type": "code",
   "execution_count": null,
   "id": "4038d1ff-3b81-4147-ab99-6f7ab9a2a8d0",
   "metadata": {},
   "outputs": [],
   "source": [
    "url='https://raw.githubusercontent.com/rashakil-ds/5-Minutes-to-Pandas/refs/heads/main/Datasets/Screen%20Time%20Data.csv'\n",
    "df=pd.read_csv(url)\n",
    "df.head()"
   ]
  },
  {
   "cell_type": "code",
   "execution_count": null,
   "id": "86a69691-7292-41f7-9f4a-e913c56391b6",
   "metadata": {},
   "outputs": [],
   "source": [
    "df.drop('index',axis=1)"
   ]
  },
  {
   "cell_type": "code",
   "execution_count": null,
   "id": "e5cb50f6-0820-46a5-b715-132686755997",
   "metadata": {},
   "outputs": [],
   "source": [
    "df.head()"
   ]
  },
  {
   "cell_type": "markdown",
   "id": "b73b75ed-726c-4bb7-9fe9-228e4e4a4655",
   "metadata": {},
   "source": [
    "## Drop the Rows in pandas"
   ]
  },
  {
   "cell_type": "code",
   "execution_count": null,
   "id": "993b1e9b-eafa-460d-8863-ce0087cd9f47",
   "metadata": {},
   "outputs": [],
   "source": [
    "df.drop([0,1]).head()"
   ]
  },
  {
   "cell_type": "markdown",
   "id": "7aad8a72-5bcd-4597-b5c6-e731703b2692",
   "metadata": {},
   "source": [
    "## Rename & Concate DataFrame"
   ]
  },
  {
   "cell_type": "code",
   "execution_count": null,
   "id": "9a602bef-881f-4b51-b12b-524c016a6910",
   "metadata": {},
   "outputs": [],
   "source": [
    "df1=pd.DataFrame({'Age':[16,20],'Income':[3000,4000]})\n",
    "df2=pd.DataFrame({'Age':[26,90],'Income':[9000,7000]})\n"
   ]
  },
  {
   "cell_type": "code",
   "execution_count": null,
   "id": "83cc9e54-77ce-4a82-9714-112dd9c1f6a7",
   "metadata": {},
   "outputs": [],
   "source": [
    "df1"
   ]
  },
  {
   "cell_type": "code",
   "execution_count": null,
   "id": "c3232695-48fd-4255-8d7e-c4ef0f71777d",
   "metadata": {},
   "outputs": [],
   "source": [
    "df2"
   ]
  },
  {
   "cell_type": "code",
   "execution_count": null,
   "id": "94a83a3a-788f-4815-8e79-f31ed5f982f1",
   "metadata": {},
   "outputs": [],
   "source": [
    "df1=df1.rename(columns={'Age':'age','Income':'income'})\n",
    "df2=df2.rename(columns={'Age':'age','Income':'income'})"
   ]
  },
  {
   "cell_type": "code",
   "execution_count": null,
   "id": "7605cc8c-8766-44f6-b14c-43fa0ae03525",
   "metadata": {},
   "outputs": [],
   "source": [
    "df1"
   ]
  },
  {
   "cell_type": "code",
   "execution_count": null,
   "id": "5b981fa0-ae6f-4ec6-b2ef-d334461238b3",
   "metadata": {},
   "outputs": [],
   "source": [
    "result=pd.concat([df1,df2])\n",
    "result"
   ]
  },
  {
   "cell_type": "code",
   "execution_count": null,
   "id": "4c8229f7-4baa-4446-9de7-d9e61423a036",
   "metadata": {},
   "outputs": [],
   "source": [
    "result=pd.concat([df1,df2],axis=1)\n",
    "result"
   ]
  },
  {
   "cell_type": "markdown",
   "id": "4df27420-0d2e-4d88-b746-fa53881da408",
   "metadata": {},
   "source": [
    "## Module"
   ]
  },
  {
   "cell_type": "code",
   "execution_count": null,
   "id": "3992396a-2a2c-465a-90b9-637855fbbfc2",
   "metadata": {},
   "outputs": [],
   "source": [
    "import numpy as np\n"
   ]
  },
  {
   "cell_type": "code",
   "execution_count": null,
   "id": "56466a73-c3cf-4a32-ad16-4ebbe6b3713d",
   "metadata": {},
   "outputs": [],
   "source": [
    "data =np.random.rand(10,3)\n",
    "for col in range(data.shape[1]):\n",
    "    null_indices=np.random.choice(10,3,replace=False)\n",
    "    data[null_indices,col]=np.nan\n",
    "df=pd.DataFrame(data,columns=['columns_1','columns_2','columns_3']) \n"
   ]
  },
  {
   "cell_type": "code",
   "execution_count": null,
   "id": "4a23953a-52de-4b9b-93b5-de4f4fb037ff",
   "metadata": {
    "scrolled": true
   },
   "outputs": [],
   "source": [
    "df"
   ]
  },
  {
   "cell_type": "code",
   "execution_count": null,
   "id": "8eb6bf8d-2e6c-4166-9dd0-2d739eeeb3ee",
   "metadata": {},
   "outputs": [],
   "source": [
    "df.head()"
   ]
  },
  {
   "cell_type": "code",
   "execution_count": null,
   "id": "5a7b686f-46c0-4881-b61e-5fd4ddee812f",
   "metadata": {},
   "outputs": [],
   "source": [
    "pd.isna(df['columns_1'])"
   ]
  },
  {
   "cell_type": "code",
   "execution_count": null,
   "id": "104a8f6b-cf64-4213-baa2-439550639dda",
   "metadata": {},
   "outputs": [],
   "source": [
    "pd.notna(df['columns_1'])"
   ]
  },
  {
   "cell_type": "code",
   "execution_count": null,
   "id": "99b6f2d2-a3ca-4435-ac5d-880707adba57",
   "metadata": {},
   "outputs": [],
   "source": [
    "df.isnull()"
   ]
  },
  {
   "cell_type": "code",
   "execution_count": null,
   "id": "f5883b8b-0042-413d-af4a-54b0906cfb5c",
   "metadata": {},
   "outputs": [],
   "source": [
    "df.isnull().sum()"
   ]
  },
  {
   "cell_type": "code",
   "execution_count": null,
   "id": "780aad94-21e8-45ab-9352-36b3ed26de75",
   "metadata": {},
   "outputs": [],
   "source": [
    "df.info()"
   ]
  },
  {
   "cell_type": "markdown",
   "id": "224d7d0b-219a-45a0-aceb-fd89d29bb949",
   "metadata": {},
   "source": [
    "## Handling NaN Values"
   ]
  },
  {
   "cell_type": "code",
   "execution_count": null,
   "id": "87a65ecb-ef15-46ae-b246-8e6bd0bec03c",
   "metadata": {},
   "outputs": [],
   "source": [
    "df"
   ]
  },
  {
   "cell_type": "code",
   "execution_count": null,
   "id": "b3d2a396-ac31-4e50-aff7-d1dbbe7bfe9a",
   "metadata": {},
   "outputs": [],
   "source": [
    "df.isnull().sum()"
   ]
  },
  {
   "cell_type": "code",
   "execution_count": null,
   "id": "e3c398fc-f738-40ca-979e-7acdca970954",
   "metadata": {},
   "outputs": [],
   "source": [
    "df.fillna(0)"
   ]
  },
  {
   "cell_type": "code",
   "execution_count": null,
   "id": "cf926db2-b199-4cfe-83ca-257d6d11b98a",
   "metadata": {},
   "outputs": [],
   "source": [
    "df1=df.copy()"
   ]
  },
  {
   "cell_type": "code",
   "execution_count": null,
   "id": "9137c8b1-a930-4a22-984f-4abb9e5bcb2d",
   "metadata": {},
   "outputs": [],
   "source": [
    "df1.fillna(0,inplace=True)"
   ]
  },
  {
   "cell_type": "code",
   "execution_count": null,
   "id": "cddc6553-e446-4f59-b97c-998ce6ebac79",
   "metadata": {},
   "outputs": [],
   "source": [
    "df1.isnull().sum()"
   ]
  },
  {
   "cell_type": "code",
   "execution_count": null,
   "id": "d401d33a-5ea1-47e3-841c-97e9e9b85179",
   "metadata": {},
   "outputs": [],
   "source": [
    "df"
   ]
  },
  {
   "cell_type": "code",
   "execution_count": null,
   "id": "2a6d5eba-1747-49de-b163-1cedf15a0bd9",
   "metadata": {},
   "outputs": [],
   "source": [
    "df.fillna({'columns_1':0,\n",
    "           'columns_2':1,\n",
    "           'columns_3':2})"
   ]
  },
  {
   "cell_type": "code",
   "execution_count": null,
   "id": "1c0f72d3-4a89-41bb-b177-957da1c3cf5b",
   "metadata": {},
   "outputs": [],
   "source": [
    "df.dropna(how='any')"
   ]
  },
  {
   "cell_type": "code",
   "execution_count": null,
   "id": "94ebeb00-b380-4aef-a1b8-d4c97595d710",
   "metadata": {},
   "outputs": [],
   "source": [
    "df.dropna(how='all')"
   ]
  },
  {
   "cell_type": "code",
   "execution_count": null,
   "id": "5f698e43-bca1-4e21-946b-93a4a157ebdb",
   "metadata": {},
   "outputs": [],
   "source": [
    "df.dropna(thresh=2)"
   ]
  },
  {
   "cell_type": "code",
   "execution_count": null,
   "id": "28742d14-3fc0-4c54-99d4-4239e3feaa67",
   "metadata": {},
   "outputs": [],
   "source": [
    "df.dropna(thresh=3)"
   ]
  },
  {
   "cell_type": "markdown",
   "id": "9119be13-c09c-4d8b-8230-01bb538b2732",
   "metadata": {},
   "source": [
    "## Filling NaN values with central tendency"
   ]
  },
  {
   "cell_type": "code",
   "execution_count": null,
   "id": "f6aa55f8-b4db-4919-8f58-4e1a112bf123",
   "metadata": {},
   "outputs": [],
   "source": [
    "df.fillna(df.mean())"
   ]
  },
  {
   "cell_type": "code",
   "execution_count": null,
   "id": "962474c0-0cc3-4abc-800a-0bfbd739140c",
   "metadata": {},
   "outputs": [],
   "source": [
    "df.fillna(df.median())"
   ]
  },
  {
   "cell_type": "code",
   "execution_count": null,
   "id": "6bac9579-0374-4f58-9657-eaa399f63fcb",
   "metadata": {},
   "outputs": [],
   "source": [
    "df.columns_1.mode().iloc[0]"
   ]
  },
  {
   "cell_type": "code",
   "execution_count": null,
   "id": "1a75a451-6e66-4291-b835-f070c93e535e",
   "metadata": {},
   "outputs": [],
   "source": [
    "from ydata_profiling import ProfileReport"
   ]
  },
  {
   "cell_type": "code",
   "execution_count": null,
   "id": "ee026043-e802-4c1a-b229-e0cefef346a7",
   "metadata": {},
   "outputs": [],
   "source": [
    "!pip install ydata-profiling\n"
   ]
  },
  {
   "cell_type": "code",
   "execution_count": null,
   "id": "3d9f9690-2ee6-4c83-ae7b-bb3c9d3a79ea",
   "metadata": {},
   "outputs": [],
   "source": [
    "from ydata_profiling import ProfileReport\n"
   ]
  },
  {
   "cell_type": "code",
   "execution_count": null,
   "id": "d3710055-ae60-441a-9a18-4d170500be01",
   "metadata": {},
   "outputs": [],
   "source": []
  }
 ],
 "metadata": {
  "kernelspec": {
   "display_name": "Python [conda env:base] *",
   "language": "python",
   "name": "conda-base-py"
  },
  "language_info": {
   "codemirror_mode": {
    "name": "ipython",
    "version": 3
   },
   "file_extension": ".py",
   "mimetype": "text/x-python",
   "name": "python",
   "nbconvert_exporter": "python",
   "pygments_lexer": "ipython3",
   "version": "3.12.7"
  }
 },
 "nbformat": 4,
 "nbformat_minor": 5
}
