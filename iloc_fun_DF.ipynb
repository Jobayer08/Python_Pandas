{
 "cells": [
  {
   "cell_type": "code",
   "execution_count": 2,
   "id": "68b9dd18-89ac-4065-895f-d25601fc3aa6",
   "metadata": {},
   "outputs": [],
   "source": [
    "# #iloc \"integer location function\"\n",
    "# #dataframe.iloc[row_int,column]\n",
    "\n",
    "# #selecting a single element \n",
    "# val=dataframe.iloc[row,column]\n",
    "# #selecting a specific row\n",
    "# val=dataframe.iloc[row_index]\n",
    "# #selecting a multiple row element\n",
    "# val=dataframe.iloc[startrow:endrow]\n",
    "# #selecting a specific rows and column\n",
    "# val=dataframe.iloc[[row1,row2],[col1,col2]]\n",
    "# #selecting a all rows for specific column\n",
    "# val=dataframe.iloc[:,[col1,col2]]"
   ]
  },
  {
   "cell_type": "code",
   "execution_count": 5,
   "id": "7f7f7e00-d86c-44d6-81bd-53cdb24711d4",
   "metadata": {},
   "outputs": [
    {
     "name": "stdout",
     "output_type": "stream",
     "text": [
      "      name  age     country\n",
      "0  jobayer   25       dubai\n",
      "1   tanmoy   30      canada\n",
      "2    rahat   22  bangladesh\n",
      "3    sakib   28       india\n"
     ]
    }
   ],
   "source": [
    "import pandas as pd\n",
    "data={'name':['jobayer','tanmoy','rahat','sakib'],'age':[25,30,22,28],'country':['dubai','canada','bangladesh','india']}\n",
    "df=pd.DataFrame(data)\n",
    "print(df)"
   ]
  },
  {
   "cell_type": "code",
   "execution_count": 19,
   "id": "788c6192-130f-475e-a4a8-07bc090c32ce",
   "metadata": {},
   "outputs": [
    {
     "name": "stdout",
     "output_type": "stream",
     "text": [
      "      name     country\n",
      "0  jobayer       dubai\n",
      "1   tanmoy      canada\n",
      "2    rahat  bangladesh\n",
      "3    sakib       india\n"
     ]
    }
   ],
   "source": [
    "#selecting canada\n",
    "element=df.iloc[:,[0,2]]\n",
    "print(element)"
   ]
  },
  {
   "cell_type": "code",
   "execution_count": null,
   "id": "9ae5d00d-fb6e-43a1-abbb-19f26383bca0",
   "metadata": {},
   "outputs": [],
   "source": []
  }
 ],
 "metadata": {
  "kernelspec": {
   "display_name": "Python 3 (ipykernel)",
   "language": "python",
   "name": "python3"
  },
  "language_info": {
   "codemirror_mode": {
    "name": "ipython",
    "version": 3
   },
   "file_extension": ".py",
   "mimetype": "text/x-python",
   "name": "python",
   "nbconvert_exporter": "python",
   "pygments_lexer": "ipython3",
   "version": "3.13.5"
  }
 },
 "nbformat": 4,
 "nbformat_minor": 5
}
